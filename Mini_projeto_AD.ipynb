{
  "nbformat": 4,
  "nbformat_minor": 0,
  "metadata": {
    "colab": {
      "provenance": []
    },
    "kernelspec": {
      "name": "python3",
      "display_name": "Python 3"
    },
    "language_info": {
      "name": "python"
    }
  },
  "cells": [
    {
      "cell_type": "markdown",
      "source": [
        "# **Ávore de Decisão**\n",
        "**Mini-projeto 2 - Sistemas Inteligentes**\n",
        "\n",
        "Prof. Germano Crispim Vasconcelos\n",
        "\n",
        "Equipe 6\n",
        "- Alice Oliveira - aoqb\n",
        "- Ana Albuquerque - alas3\n",
        "- Enrique Laborão - elm2\n",
        "- Victória Luisi - vlsc\n",
        "- Olivia Tavares - obtmc"
      ],
      "metadata": {
        "id": "vOZ9pQzvA35C"
      }
    },
    {
      "cell_type": "markdown",
      "source": [
        "## ⚙️ **Setup**\n",
        "\n",
        "Importando dependências, conectando Google Drive, lendo datasets e criando os respectivos dataframes."
      ],
      "metadata": {
        "id": "LwwHyFyZCDZ1"
      }
    },
    {
      "cell_type": "markdown",
      "source": [
        "### Dependências"
      ],
      "metadata": {
        "id": "M4XT12rQiv5Q"
      }
    },
    {
      "cell_type": "code",
      "source": [
        "import numpy as np\n",
        "import pandas as pd\n",
        "\n",
        "import matplotlib.pyplot as plt\n",
        "import seaborn as sns\n",
        "\n",
        "from sklearn.ensemble import RandomForestClassifier\n",
        "from sklearn.tree import DecisionTreeClassifier, plot_tree\n",
        "from sklearn.model_selection import train_test_split, GridSearchCV\n",
        "from sklearn.metrics import classification_report, accuracy_score, precision_score, recall_score, f1_score, roc_auc_score, confusion_matrix"
      ],
      "metadata": {
        "id": "rcXBH8MBDDU9"
      },
      "execution_count": 122,
      "outputs": []
    },
    {
      "cell_type": "markdown",
      "source": [
        "### Drive"
      ],
      "metadata": {
        "id": "75VD6FONiyw7"
      }
    },
    {
      "cell_type": "code",
      "source": [
        "from google.colab import drive\n",
        "drive.mount('/content/drive')\n",
        "\n",
        "base_path = '/content/drive/MyDrive/'"
      ],
      "metadata": {
        "colab": {
          "base_uri": "https://localhost:8080/"
        },
        "id": "iV3bTXMXUlpv",
        "outputId": "b95fa913-5912-4a61-9261-13c919d38a3d"
      },
      "execution_count": 2,
      "outputs": [
        {
          "output_type": "stream",
          "name": "stdout",
          "text": [
            "Mounted at /content/drive\n"
          ]
        }
      ]
    },
    {
      "cell_type": "markdown",
      "source": [
        "IRIS Dataset - https://www.kaggle.com/datasets/arshid/iris-flower-dataset"
      ],
      "metadata": {
        "id": "6kPfVvSkWrL6"
      }
    },
    {
      "cell_type": "code",
      "source": [
        "iris_dataset_path = base_path + 'IRIS.csv'"
      ],
      "metadata": {
        "id": "idADOF0SUmPN"
      },
      "execution_count": 3,
      "outputs": []
    },
    {
      "cell_type": "markdown",
      "source": [
        "Titanic Dataset - https://www.kaggle.com/c/titanic/data"
      ],
      "metadata": {
        "id": "_kK9kaNXX38T"
      }
    },
    {
      "cell_type": "code",
      "source": [
        "titanic_train_dataset_path = base_path + 'titanic/train.csv'\n",
        "titanic_test_dataset_path = base_path + 'titanic/test.csv'"
      ],
      "metadata": {
        "id": "IPYbl51vX_CK"
      },
      "execution_count": 4,
      "outputs": []
    },
    {
      "cell_type": "markdown",
      "source": [
        "Lower Back Pain Symptoms Dataset - https://www.kaggle.com/datasets/sammy123/lower-back-pain-symptoms-dataset"
      ],
      "metadata": {
        "id": "wctQ-VGGlcP-"
      }
    },
    {
      "cell_type": "code",
      "source": [
        "pain_dataset_path = base_path + 'Dataset_spine.csv'"
      ],
      "metadata": {
        "id": "r8iyWQVJlbmb"
      },
      "execution_count": 204,
      "outputs": []
    },
    {
      "cell_type": "markdown",
      "source": [
        "### Lendo datasets\n"
      ],
      "metadata": {
        "id": "RkgrXB1Yi1uD"
      }
    },
    {
      "cell_type": "code",
      "source": [
        "iris_df = pd.read_csv(iris_dataset_path)"
      ],
      "metadata": {
        "id": "LDTS0JLQi3up"
      },
      "execution_count": 5,
      "outputs": []
    },
    {
      "cell_type": "code",
      "source": [
        "titanic_df = pd.read_csv(titanic_train_dataset_path)\n",
        "titanic_test_df = pd.read_csv(titanic_test_dataset_path) # Não possui a coluna de classificação (Survived)"
      ],
      "metadata": {
        "id": "PNp5NTrkj23Z"
      },
      "execution_count": 6,
      "outputs": []
    },
    {
      "cell_type": "code",
      "source": [
        "pain_df = pd.read_csv(pain_dataset_path)\n",
        "pain_df = pain_df.drop(pain_df.columns[[13]], axis=1) # Removendo a coluna 13"
      ],
      "metadata": {
        "id": "3ku6cmNtmA0H"
      },
      "execution_count": 230,
      "outputs": []
    },
    {
      "cell_type": "markdown",
      "source": [
        "### Funções"
      ],
      "metadata": {
        "id": "83QTEtas9v9P"
      }
    },
    {
      "cell_type": "code",
      "source": [
        "def plot_confusion_matrix(y_test, y_pred):\n",
        "  cm = confusion_matrix(y_test, y_pred)\n",
        "  fig, ax = plt.subplots(figsize=(2,2))\n",
        "  sns.heatmap(cm, annot=True, fmt='d')"
      ],
      "metadata": {
        "id": "9X2xFVKp9vTR"
      },
      "execution_count": 98,
      "outputs": []
    },
    {
      "cell_type": "markdown",
      "source": [
        "## 🧪 **Experimento: Iris Flower Dataset**"
      ],
      "metadata": {
        "id": "YSEmaOGYBJ4c"
      }
    },
    {
      "cell_type": "markdown",
      "source": [
        "### 🔎 Análise do Dataset"
      ],
      "metadata": {
        "id": "IbnwXNQtlxoD"
      }
    },
    {
      "cell_type": "code",
      "source": [
        "iris_df.info()"
      ],
      "metadata": {
        "colab": {
          "base_uri": "https://localhost:8080/"
        },
        "id": "Lgo4Q1H8rC_J",
        "outputId": "0ba359be-8cb4-449b-e478-9c353cbf3fa2"
      },
      "execution_count": null,
      "outputs": [
        {
          "output_type": "stream",
          "name": "stdout",
          "text": [
            "<class 'pandas.core.frame.DataFrame'>\n",
            "RangeIndex: 150 entries, 0 to 149\n",
            "Data columns (total 5 columns):\n",
            " #   Column        Non-Null Count  Dtype  \n",
            "---  ------        --------------  -----  \n",
            " 0   sepal_length  150 non-null    float64\n",
            " 1   sepal_width   150 non-null    float64\n",
            " 2   petal_length  150 non-null    float64\n",
            " 3   petal_width   150 non-null    float64\n",
            " 4   species       150 non-null    object \n",
            "dtypes: float64(4), object(1)\n",
            "memory usage: 6.0+ KB\n"
          ]
        }
      ]
    },
    {
      "cell_type": "code",
      "source": [
        "iris_df['species'].unique()"
      ],
      "metadata": {
        "colab": {
          "base_uri": "https://localhost:8080/"
        },
        "id": "PUPwaNKVn0BD",
        "outputId": "3c3dcaa3-bbda-48b1-cbb9-b15166def89e"
      },
      "execution_count": null,
      "outputs": [
        {
          "output_type": "execute_result",
          "data": {
            "text/plain": [
              "array(['Iris-setosa', 'Iris-versicolor', 'Iris-virginica'], dtype=object)"
            ]
          },
          "metadata": {},
          "execution_count": 9
        }
      ]
    },
    {
      "cell_type": "code",
      "source": [
        "iris_df['species'].value_counts()"
      ],
      "metadata": {
        "colab": {
          "base_uri": "https://localhost:8080/"
        },
        "id": "GU8MSiXsongg",
        "outputId": "6a0a266a-0ddd-41f8-cfcc-920717fc67b1"
      },
      "execution_count": null,
      "outputs": [
        {
          "output_type": "execute_result",
          "data": {
            "text/plain": [
              "Iris-setosa        50\n",
              "Iris-versicolor    50\n",
              "Iris-virginica     50\n",
              "Name: species, dtype: int64"
            ]
          },
          "metadata": {},
          "execution_count": 10
        }
      ]
    },
    {
      "cell_type": "code",
      "source": [
        "#iris_df.describe()"
      ],
      "metadata": {
        "id": "_WhNfBGaopNv"
      },
      "execution_count": null,
      "outputs": []
    },
    {
      "cell_type": "code",
      "source": [
        "#sns.pairplot(iris_df, hue ='species')"
      ],
      "metadata": {
        "id": "owTmUzMmrPJC"
      },
      "execution_count": null,
      "outputs": []
    },
    {
      "cell_type": "code",
      "source": [
        "#iris_df.hist(bins=50, figsize=(5,5))\n",
        "#plt.show()"
      ],
      "metadata": {
        "id": "AgEkq1_2udcE"
      },
      "execution_count": null,
      "outputs": []
    },
    {
      "cell_type": "code",
      "source": [
        "#sns.set_style(\"whitegrid\")\n",
        "#data = np.random.normal(size=(20, 6)) + np.arange(6) / 2\n",
        "#sns.set(rc={'figure.figsize':(7,4)})\n",
        "#sns.boxplot(data = iris_df.iloc[:,:-1])"
      ],
      "metadata": {
        "id": "C8GZF-qI0_-f"
      },
      "execution_count": null,
      "outputs": []
    },
    {
      "cell_type": "markdown",
      "source": [
        "### 🛠️ Criando modelo\n"
      ],
      "metadata": {
        "id": "jcvstXinl3Xd"
      }
    },
    {
      "cell_type": "code",
      "execution_count": null,
      "metadata": {
        "id": "F3rHOPGRA0yl"
      },
      "outputs": [],
      "source": [
        "iris_x = iris_df.iloc[:, :-1]\n",
        "iris_y = iris_df.iloc[:, -1]\n",
        "iris_x_train, iris_x_test, iris_y_train, iris_y_test = train_test_split(iris_x, iris_y, test_size = 0.25, random_state = 0) "
      ]
    },
    {
      "cell_type": "code",
      "source": [
        "classifier = DecisionTreeClassifier()  \n",
        "classifier.fit(iris_x_train, iris_y_train)"
      ],
      "metadata": {
        "id": "uDD9Oikv5KZA"
      },
      "execution_count": null,
      "outputs": []
    },
    {
      "cell_type": "code",
      "source": [
        "plot_tree(classifier, feature_names=iris_df.columns[: -1])\n",
        "plt.show()"
      ],
      "metadata": {
        "colab": {
          "base_uri": "https://localhost:8080/",
          "height": 345
        },
        "id": "oDL_xFa6CuXT",
        "outputId": "fac11f04-4b88-4527-b432-715b647ee7c2"
      },
      "execution_count": null,
      "outputs": [
        {
          "output_type": "display_data",
          "data": {
            "text/plain": [
              "<Figure size 700x400 with 1 Axes>"
            ],
            "image/png": "[encoded data removed]"
          },
          "metadata": {}
        }
      ]
    },
    {
      "cell_type": "code",
      "source": [
        "iris_y_pred = classifier.predict(iris_x_test)"
      ],
      "metadata": {
        "id": "cEp2JEZl5nv7"
      },
      "execution_count": null,
      "outputs": []
    },
    {
      "cell_type": "code",
      "source": [
        "report = classification_report(iris_y_test, iris_y_pred)"
      ],
      "metadata": {
        "id": "FJYwNsZO5sFI"
      },
      "execution_count": null,
      "outputs": []
    },
    {
      "cell_type": "code",
      "source": [
        "print(report)"
      ],
      "metadata": {
        "colab": {
          "base_uri": "https://localhost:8080/"
        },
        "id": "hJ6dkFc79oxk",
        "outputId": "c15245ab-03cf-4f23-b8c1-dc2b3fda4dad"
      },
      "execution_count": null,
      "outputs": [
        {
          "output_type": "stream",
          "name": "stdout",
          "text": [
            "                 precision    recall  f1-score   support\n",
            "\n",
            "    Iris-setosa       1.00      1.00      1.00        13\n",
            "Iris-versicolor       1.00      0.94      0.97        16\n",
            " Iris-virginica       0.90      1.00      0.95         9\n",
            "\n",
            "       accuracy                           0.97        38\n",
            "      macro avg       0.97      0.98      0.97        38\n",
            "   weighted avg       0.98      0.97      0.97        38\n",
            "\n"
          ]
        }
      ]
    },
    {
      "cell_type": "code",
      "source": [
        "plot_confusion_matrix(iris_y_test, iris_y_pred)"
      ],
      "metadata": {
        "colab": {
          "base_uri": "https://localhost:8080/",
          "height": 225
        },
        "id": "yxQk4SK191Dx",
        "outputId": "e3a2afb1-34d2-42c0-8171-1b4f839523d7"
      },
      "execution_count": null,
      "outputs": [
        {
          "output_type": "display_data",
          "data": {
            "text/plain": [
              "<Figure size 200x200 with 2 Axes>"
            ],
            "image/png": "[encoded data removed]"
          },
          "metadata": {}
        }
      ]
    },
    {
      "cell_type": "markdown",
      "source": [
        "## 🛳️ **Projeto: Titanic Dataset**"
      ],
      "metadata": {
        "id": "_I1-QjdbBUU6"
      }
    },
    {
      "cell_type": "markdown",
      "source": [
        "### 🔎 Análise e limpeza do Dataset"
      ],
      "metadata": {
        "id": "IYq0Une8O4X9"
      }
    },
    {
      "cell_type": "markdown",
      "source": [
        "#### Valores faltantes\n",
        "A primeira análise feita é verificar os valores faltantes. **Três colunas possuem valores nulos: Age, Cabin e Embarked.** Cada coluna terá um tratamento apropriado."
      ],
      "metadata": {
        "id": "XxFIxczgKt1p"
      }
    },
    {
      "cell_type": "code",
      "source": [
        "titanic_df.shape"
      ],
      "metadata": {
        "colab": {
          "base_uri": "https://localhost:8080/"
        },
        "id": "30o3RhS8MQmo",
        "outputId": "ffec7638-cb4a-40a3-bf6b-19ce97545a4c"
      },
      "execution_count": 9,
      "outputs": [
        {
          "output_type": "execute_result",
          "data": {
            "text/plain": [
              "(891, 12)"
            ]
          },
          "metadata": {},
          "execution_count": 9
        }
      ]
    },
    {
      "cell_type": "code",
      "source": [
        "#titanic_df.info()\n",
        "titanic_df.isnull().sum()"
      ],
      "metadata": {
        "colab": {
          "base_uri": "https://localhost:8080/"
        },
        "id": "YUyxGA3HHR-3",
        "outputId": "769f6ef8-7771-4f07-9e9a-b5197eb1a8bc"
      },
      "execution_count": 10,
      "outputs": [
        {
          "output_type": "execute_result",
          "data": {
            "text/plain": [
              "PassengerId      0\n",
              "Survived         0\n",
              "Pclass           0\n",
              "Name             0\n",
              "Sex              0\n",
              "Age            177\n",
              "SibSp            0\n",
              "Parch            0\n",
              "Ticket           0\n",
              "Fare             0\n",
              "Cabin          687\n",
              "Embarked         2\n",
              "dtype: int64"
            ]
          },
          "metadata": {},
          "execution_count": 10
        }
      ]
    },
    {
      "cell_type": "markdown",
      "source": [
        "##### Age"
      ],
      "metadata": {
        "id": "YhqN8W7PMkBH"
      }
    },
    {
      "cell_type": "markdown",
      "source": [
        "- Como é uma coluna de valores numéricos, que a maioria dos valores não é nulo e que acreditamos ter grande relevância para a sobrevivência ou não, será utilizado um método de substituir os valores nulos por um outro valor.\n",
        "- No plot vemos que se aproxima de uma distribuição assimétrica para a direita, então, então podemos **substituir os valores faltantes pela mediana**. [[1]](https://vitalflux.com/pandas-impute-missing-values-mean-median-mode/#How_to_decide_which_imputation_technique_to_use)\n",
        "- 🚩 **Idealmente, deveríamos analisar a correlação entre a idade e outras features, observando a existência de uma correlação, então os valores nulos deveriam ser substituídos pela mediana do subconjunto (separado pelas outras features correlacionadas).**"
      ],
      "metadata": {
        "id": "UloPUm0QYgw7"
      }
    },
    {
      "cell_type": "code",
      "source": [
        "sns.set(font_scale=0.8) \n",
        "sns.displot(titanic_df['Age'], height=3)\n",
        "plt.show()"
      ],
      "metadata": {
        "colab": {
          "base_uri": "https://localhost:8080/",
          "height": 0
        },
        "id": "UTrzA1i4Uw_3",
        "outputId": "1e03fe61-f5eb-48aa-c1da-86f853e9e9a6"
      },
      "execution_count": 11,
      "outputs": [
        {
          "output_type": "display_data",
          "data": {
            "text/plain": [
              "<Figure size 300x300 with 1 Axes>"
            ],
            "image/png": "[encoded data removed]"
          },
          "metadata": {}
        }
      ]
    },
    {
      "cell_type": "code",
      "source": [
        "titanic_df['Age'] = titanic_df['Age'].fillna(titanic_df['Age'].median())"
      ],
      "metadata": {
        "id": "-AJ9gVmNYmRx"
      },
      "execution_count": 12,
      "outputs": []
    },
    {
      "cell_type": "markdown",
      "source": [
        "##### Cabin"
      ],
      "metadata": {
        "id": "DBNa0_E3LJ2m"
      }
    },
    {
      "cell_type": "markdown",
      "source": [
        "- A maioria dos valores são nulos (687 de 891), não são numéricos e possuem muitos valores únicos.\n",
        "- Poderia ser feita uma tentativa de extrair informações relevantes dos dados que existem, visto que as strings consistem de uma letra seguida por um ou dois números, podemos deduzir que está relacionada a posição da cabine no navio, podendo então influenciar na sobrevivência de um passageiro. [[2]](https://www.kaggle.com/code/ccastleberry/titanic-cabin-features/notebook)\n",
        "- Entretanto, optaremos por **descartar a coluna** devido a quantidade de valores faltantes."
      ],
      "metadata": {
        "id": "0jLlhMg0OPpT"
      }
    },
    {
      "cell_type": "code",
      "source": [
        "titanic_df['Cabin'].value_counts()"
      ],
      "metadata": {
        "colab": {
          "base_uri": "https://localhost:8080/"
        },
        "id": "RY7T01VFCp3m",
        "outputId": "0186346f-0e5a-4206-b3c9-8d6e757ba24e"
      },
      "execution_count": 13,
      "outputs": [
        {
          "output_type": "execute_result",
          "data": {
            "text/plain": [
              "B96 B98        4\n",
              "G6             4\n",
              "C23 C25 C27    4\n",
              "C22 C26        3\n",
              "F33            3\n",
              "              ..\n",
              "E34            1\n",
              "C7             1\n",
              "C54            1\n",
              "E36            1\n",
              "C148           1\n",
              "Name: Cabin, Length: 147, dtype: int64"
            ]
          },
          "metadata": {},
          "execution_count": 13
        }
      ]
    },
    {
      "cell_type": "code",
      "source": [
        "titanic_df = titanic_df.drop(columns=['Cabin'])"
      ],
      "metadata": {
        "id": "mZhlqNgWQoWf"
      },
      "execution_count": 14,
      "outputs": []
    },
    {
      "cell_type": "markdown",
      "source": [
        "##### Embarked"
      ],
      "metadata": {
        "id": "qr-6HdqePipN"
      }
    },
    {
      "cell_type": "markdown",
      "source": [
        "- Como se tratam de valores categóricos, os dois valores faltantes serão subsituídos pela moda."
      ],
      "metadata": {
        "id": "H1tb3x5NYwjm"
      }
    },
    {
      "cell_type": "code",
      "source": [
        "titanic_df['Embarked'].value_counts()"
      ],
      "metadata": {
        "colab": {
          "base_uri": "https://localhost:8080/"
        },
        "id": "DUtB_biEY2GB",
        "outputId": "0332b12a-9edd-406e-9d30-2bfdb4258605"
      },
      "execution_count": 15,
      "outputs": [
        {
          "output_type": "execute_result",
          "data": {
            "text/plain": [
              "S    644\n",
              "C    168\n",
              "Q     77\n",
              "Name: Embarked, dtype: int64"
            ]
          },
          "metadata": {},
          "execution_count": 15
        }
      ]
    },
    {
      "cell_type": "code",
      "source": [
        "titanic_df['Embarked'] = titanic_df['Embarked'].fillna(titanic_df['Embarked'].mode()[0])"
      ],
      "metadata": {
        "id": "5784i7LlZWna"
      },
      "execution_count": 16,
      "outputs": []
    },
    {
      "cell_type": "code",
      "source": [
        "titanic_df['Embarked'].value_counts()"
      ],
      "metadata": {
        "colab": {
          "base_uri": "https://localhost:8080/"
        },
        "id": "dSwt5VJaaflc",
        "outputId": "2f76f3be-dde0-441f-9f11-09f897b9a9d9"
      },
      "execution_count": 17,
      "outputs": [
        {
          "output_type": "execute_result",
          "data": {
            "text/plain": [
              "S    646\n",
              "C    168\n",
              "Q     77\n",
              "Name: Embarked, dtype: int64"
            ]
          },
          "metadata": {},
          "execution_count": 17
        }
      ]
    },
    {
      "cell_type": "markdown",
      "source": [
        "#### Colunas consideradas irrelevantes\n",
        "\n",
        "Algumas colunas possuem informações irrelevantes: identificadores que não apresentam relação direta com algo que possa definir a sobrevivência ou são valores aleatórios:\n",
        "- PassengerId\n",
        "- Ticket"
      ],
      "metadata": {
        "id": "WgfIP3YNP7z2"
      }
    },
    {
      "cell_type": "code",
      "source": [
        "titanic_df = titanic_df.drop(columns=['PassengerId'])\n",
        "titanic_df = titanic_df.drop(columns=['Ticket'])"
      ],
      "metadata": {
        "id": "9xhY22F6QfeD"
      },
      "execution_count": 18,
      "outputs": []
    },
    {
      "cell_type": "markdown",
      "source": [
        "#### Substituição dos valores categóricos por numéricos\n"
      ],
      "metadata": {
        "id": "oLqhfRIScD2u"
      }
    },
    {
      "cell_type": "markdown",
      "source": [
        "##### Name"
      ],
      "metadata": {
        "id": "8NS3TdQMfAsi"
      }
    },
    {
      "cell_type": "markdown",
      "source": [
        "- Essa coluna é composta apenas de valores únicos, mas todos os indivíduos possuem títulos (Mr., Mrs., Miss., etc).\n",
        "- É possível extrair a informação do título do passageiro e criar uma nova coluna."
      ],
      "metadata": {
        "id": "WW182XEEfEa0"
      }
    },
    {
      "cell_type": "code",
      "source": [
        "titanic_df['Name'].unique().size"
      ],
      "metadata": {
        "colab": {
          "base_uri": "https://localhost:8080/"
        },
        "id": "iJa2Mez2fJrK",
        "outputId": "03320c33-114e-4766-9fbb-8308c7244324"
      },
      "execution_count": 19,
      "outputs": [
        {
          "output_type": "execute_result",
          "data": {
            "text/plain": [
              "891"
            ]
          },
          "metadata": {},
          "execution_count": 19
        }
      ]
    },
    {
      "cell_type": "code",
      "source": [
        "titles = titanic_df.Name.str.extract(' ([A-Za-z]+)\\.', expand=False)\n",
        "print(titles.size)\n",
        "titles.value_counts()"
      ],
      "metadata": {
        "colab": {
          "base_uri": "https://localhost:8080/"
        },
        "id": "eWJFveEfgrq9",
        "outputId": "1621ff5f-f4d6-4771-97e4-bcc0d8f6889d"
      },
      "execution_count": 20,
      "outputs": [
        {
          "output_type": "stream",
          "name": "stdout",
          "text": [
            "891\n"
          ]
        },
        {
          "output_type": "execute_result",
          "data": {
            "text/plain": [
              "Mr          517\n",
              "Miss        182\n",
              "Mrs         125\n",
              "Master       40\n",
              "Dr            7\n",
              "Rev           6\n",
              "Mlle          2\n",
              "Major         2\n",
              "Col           2\n",
              "Countess      1\n",
              "Capt          1\n",
              "Ms            1\n",
              "Sir           1\n",
              "Lady          1\n",
              "Mme           1\n",
              "Don           1\n",
              "Jonkheer      1\n",
              "Name: Name, dtype: int64"
            ]
          },
          "metadata": {},
          "execution_count": 20
        }
      ]
    },
    {
      "cell_type": "markdown",
      "source": [
        "- Como Mr, Miss, Mrs e Master são os únicos títulos que se repetem mais de dez vezes, vamos optar por substituir o restante por 'Other'. E outros títulos que equivalem a esses títulos também serão subsituídos.\n",
        "- O seguinte mapeamento será feito:\n",
        "  - Mr = 0, Mrs = 1, Miss = 2, Master = 3, Other = 4"
      ],
      "metadata": {
        "id": "WNhXYX88mB7o"
      }
    },
    {
      "cell_type": "code",
      "source": [
        "titles = titles.replace(['Lady', 'Countess','Capt', 'Col', 'Don', 'Dr', 'Major', 'Rev', 'Sir', 'Jonkheer', 'Dona'], 'Other')\n",
        "titles = titles.replace('Mlle', 'Miss')\n",
        "titles = titles.replace('Ms', 'Miss')\n",
        "titles = titles.replace('Mme', 'Mrs')\n",
        "titles = titles.map({\"Mr\": 0, \"Mrs\": 1, \"Miss\": 2, \"Master\": 3, \"Other\": 4})\n",
        "titles.value_counts()"
      ],
      "metadata": {
        "colab": {
          "base_uri": "https://localhost:8080/"
        },
        "id": "wpwKlJRQmo8E",
        "outputId": "e2d769b9-f598-4a13-dce4-9a75ba939b09"
      },
      "execution_count": 21,
      "outputs": [
        {
          "output_type": "execute_result",
          "data": {
            "text/plain": [
              "0    517\n",
              "2    185\n",
              "1    126\n",
              "3     40\n",
              "4     23\n",
              "Name: Name, dtype: int64"
            ]
          },
          "metadata": {},
          "execution_count": 21
        }
      ]
    },
    {
      "cell_type": "code",
      "source": [
        "titanic_df = titanic_df.drop(columns=['Name'])"
      ],
      "metadata": {
        "id": "mH1pH_zpnB7M"
      },
      "execution_count": 22,
      "outputs": []
    },
    {
      "cell_type": "code",
      "source": [
        "titanic_df['Title'] = titles"
      ],
      "metadata": {
        "id": "9nBN27yznJhB"
      },
      "execution_count": 23,
      "outputs": []
    },
    {
      "cell_type": "markdown",
      "source": [
        "##### Outras colunas"
      ],
      "metadata": {
        "id": "1a2mSyWffC0D"
      }
    },
    {
      "cell_type": "code",
      "source": [
        "titanic_df['Sex'].unique()"
      ],
      "metadata": {
        "colab": {
          "base_uri": "https://localhost:8080/"
        },
        "id": "D_9_DWjtAqrd",
        "outputId": "3ce7a4fc-8ce4-44a1-942f-83a42a65bac5"
      },
      "execution_count": 24,
      "outputs": [
        {
          "output_type": "execute_result",
          "data": {
            "text/plain": [
              "array(['male', 'female'], dtype=object)"
            ]
          },
          "metadata": {},
          "execution_count": 24
        }
      ]
    },
    {
      "cell_type": "code",
      "source": [
        "titanic_df['Embarked'].unique()"
      ],
      "metadata": {
        "colab": {
          "base_uri": "https://localhost:8080/"
        },
        "id": "AyGq5NqdBOdo",
        "outputId": "a6791a41-91e5-4504-9805-86d1a5eac57d"
      },
      "execution_count": 25,
      "outputs": [
        {
          "output_type": "execute_result",
          "data": {
            "text/plain": [
              "array(['S', 'C', 'Q'], dtype=object)"
            ]
          },
          "metadata": {},
          "execution_count": 25
        }
      ]
    },
    {
      "cell_type": "markdown",
      "source": [
        "Antes de treinar o modelo, é necessário converter algumas colunas de uma string para um valor numérico.\n",
        "- Sex (male = 0, female = 1)\n",
        "- Embarked (S = 0, C = 1, Q = 2)\n",
        "\n"
      ],
      "metadata": {
        "id": "r9nPYrV8UBNj"
      }
    },
    {
      "cell_type": "code",
      "source": [
        "titanic_df['Sex'] = titanic_df['Sex'].map({'male': 0, 'female': 1})"
      ],
      "metadata": {
        "id": "vYMeLTw3WNli"
      },
      "execution_count": 26,
      "outputs": []
    },
    {
      "cell_type": "code",
      "source": [
        "titanic_df['Embarked'] = titanic_df['Embarked'].map({'S': 0, 'C': 1, 'Q': 2})"
      ],
      "metadata": {
        "id": "PbCE2onu_E2G"
      },
      "execution_count": 27,
      "outputs": []
    },
    {
      "cell_type": "markdown",
      "source": [
        "#### Combinar colunas"
      ],
      "metadata": {
        "id": "6QD-1VCpsiqF"
      }
    },
    {
      "cell_type": "markdown",
      "source": [
        "- Podemos combinar as colunas Sibsp e Parch para ter uma coluna representando o tamanho da família."
      ],
      "metadata": {
        "id": "3j_QTs6ysl4W"
      }
    },
    {
      "cell_type": "code",
      "source": [
        "#family = titanic_df['SibSp'] + titanic_df['Parch']\n",
        "#titanic_df['Family'] = family"
      ],
      "metadata": {
        "id": "AQOBO9XBslYw"
      },
      "execution_count": 28,
      "outputs": []
    },
    {
      "cell_type": "code",
      "source": [
        "#titanic_df = titanic_df.drop(columns=['SibSp', 'Parch'])"
      ],
      "metadata": {
        "id": "XnRoFh7kzkZm"
      },
      "execution_count": 29,
      "outputs": []
    },
    {
      "cell_type": "markdown",
      "source": [
        "#### Dataset após limpeza\n",
        "\n"
      ],
      "metadata": {
        "id": "4A3ZxsU-olhk"
      }
    },
    {
      "cell_type": "code",
      "source": [
        "titanic_df.info()"
      ],
      "metadata": {
        "colab": {
          "base_uri": "https://localhost:8080/"
        },
        "id": "isNlHh-6opbR",
        "outputId": "67b8829a-4451-47ce-c1bb-7d393e90b352"
      },
      "execution_count": 30,
      "outputs": [
        {
          "output_type": "stream",
          "name": "stdout",
          "text": [
            "<class 'pandas.core.frame.DataFrame'>\n",
            "RangeIndex: 891 entries, 0 to 890\n",
            "Data columns (total 9 columns):\n",
            " #   Column    Non-Null Count  Dtype  \n",
            "---  ------    --------------  -----  \n",
            " 0   Survived  891 non-null    int64  \n",
            " 1   Pclass    891 non-null    int64  \n",
            " 2   Sex       891 non-null    int64  \n",
            " 3   Age       891 non-null    float64\n",
            " 4   SibSp     891 non-null    int64  \n",
            " 5   Parch     891 non-null    int64  \n",
            " 6   Fare      891 non-null    float64\n",
            " 7   Embarked  891 non-null    int64  \n",
            " 8   Title     891 non-null    int64  \n",
            "dtypes: float64(2), int64(7)\n",
            "memory usage: 62.8 KB\n"
          ]
        }
      ]
    },
    {
      "cell_type": "code",
      "source": [
        "titanic_df.head()"
      ],
      "metadata": {
        "colab": {
          "base_uri": "https://localhost:8080/",
          "height": 0
        },
        "id": "ZJE7f51vovGB",
        "outputId": "b45255ed-b86b-44d5-9a38-4d44fc32aa2f"
      },
      "execution_count": 31,
      "outputs": [
        {
          "output_type": "execute_result",
          "data": {
            "text/plain": [
              "   Survived  Pclass  Sex   Age  SibSp  Parch     Fare  Embarked  Title\n",
              "0         0       3    0  22.0      1      0   7.2500         0      0\n",
              "1         1       1    1  38.0      1      0  71.2833         1      1\n",
              "2         1       3    1  26.0      0      0   7.9250         0      2\n",
              "3         1       1    1  35.0      1      0  53.1000         0      1\n",
              "4         0       3    0  35.0      0      0   8.0500         0      0"
            ],
            "text/html": [
              "\n",
              "  <div id=\"df-a7d28aaf-7d0a-4dbc-9567-94b3dddd5d13\">\n",
              "    <div class=\"colab-df-container\">\n",
              "      <div>\n",
              "<style scoped>\n",
              "    .dataframe tbody tr th:only-of-type {\n",
              "        vertical-align: middle;\n",
              "    }\n",
              "\n",
              "    .dataframe tbody tr th {\n",
              "        vertical-align: top;\n",
              "    }\n",
              "\n",
              "    .dataframe thead th {\n",
              "        text-align: right;\n",
              "    }\n",
              "</style>\n",
              "<table border=\"1\" class=\"dataframe\">\n",
              "  <thead>\n",
              "    <tr style=\"text-align: right;\">\n",
              "      <th></th>\n",
              "      <th>Survived</th>\n",
              "      <th>Pclass</th>\n",
              "      <th>Sex</th>\n",
              "      <th>Age</th>\n",
              "      <th>SibSp</th>\n",
              "      <th>Parch</th>\n",
              "      <th>Fare</th>\n",
              "      <th>Embarked</th>\n",
              "      <th>Title</th>\n",
              "    </tr>\n",
              "  </thead>\n",
              "  <tbody>\n",
              "    <tr>\n",
              "      <th>0</th>\n",
              "      <td>0</td>\n",
              "      <td>3</td>\n",
              "      <td>0</td>\n",
              "      <td>22.0</td>\n",
              "      <td>1</td>\n",
              "      <td>0</td>\n",
              "      <td>7.2500</td>\n",
              "      <td>0</td>\n",
              "      <td>0</td>\n",
              "    </tr>\n",
              "    <tr>\n",
              "      <th>1</th>\n",
              "      <td>1</td>\n",
              "      <td>1</td>\n",
              "      <td>1</td>\n",
              "      <td>38.0</td>\n",
              "      <td>1</td>\n",
              "      <td>0</td>\n",
              "      <td>71.2833</td>\n",
              "      <td>1</td>\n",
              "      <td>1</td>\n",
              "    </tr>\n",
              "    <tr>\n",
              "      <th>2</th>\n",
              "      <td>1</td>\n",
              "      <td>3</td>\n",
              "      <td>1</td>\n",
              "      <td>26.0</td>\n",
              "      <td>0</td>\n",
              "      <td>0</td>\n",
              "      <td>7.9250</td>\n",
              "      <td>0</td>\n",
              "      <td>2</td>\n",
              "    </tr>\n",
              "    <tr>\n",
              "      <th>3</th>\n",
              "      <td>1</td>\n",
              "      <td>1</td>\n",
              "      <td>1</td>\n",
              "      <td>35.0</td>\n",
              "      <td>1</td>\n",
              "      <td>0</td>\n",
              "      <td>53.1000</td>\n",
              "      <td>0</td>\n",
              "      <td>1</td>\n",
              "    </tr>\n",
              "    <tr>\n",
              "      <th>4</th>\n",
              "      <td>0</td>\n",
              "      <td>3</td>\n",
              "      <td>0</td>\n",
              "      <td>35.0</td>\n",
              "      <td>0</td>\n",
              "      <td>0</td>\n",
              "      <td>8.0500</td>\n",
              "      <td>0</td>\n",
              "      <td>0</td>\n",
              "    </tr>\n",
              "  </tbody>\n",
              "</table>\n",
              "</div>\n",
              "      <button class=\"colab-df-convert\" onclick=\"convertToInteractive('df-a7d28aaf-7d0a-4dbc-9567-94b3dddd5d13')\"\n",
              "              title=\"Convert this dataframe to an interactive table.\"\n",
              "              style=\"display:none;\">\n",
              "        \n",
              "  <svg xmlns=\"http://www.w3.org/2000/svg\" height=\"24px\"viewBox=\"0 0 24 24\"\n",
              "       width=\"24px\">\n",
              "    <path d=\"M0 0h24v24H0V0z\" fill=\"none\"/>\n",
              "    <path d=\"M18.56 5.44l.94 2.06.94-2.06 2.06-.94-2.06-.94-.94-2.06-.94 2.06-2.06.94zm-11 1L8.5 8.5l.94-2.06 2.06-.94-2.06-.94L8.5 2.5l-.94 2.06-2.06.94zm10 10l.94 2.06.94-2.06 2.06-.94-2.06-.94-.94-2.06-.94 2.06-2.06.94z\"/><path d=\"M17.41 7.96l-1.37-1.37c-.4-.4-.92-.59-1.43-.59-.52 0-1.04.2-1.43.59L10.3 9.45l-7.72 7.72c-.78.78-.78 2.05 0 2.83L4 21.41c.39.39.9.59 1.41.59.51 0 1.02-.2 1.41-.59l7.78-7.78 2.81-2.81c.8-.78.8-2.07 0-2.86zM5.41 20L4 18.59l7.72-7.72 1.47 1.35L5.41 20z\"/>\n",
              "  </svg>\n",
              "      </button>\n",
              "      \n",
              "  <style>\n",
              "    .colab-df-container {\n",
              "      display:flex;\n",
              "      flex-wrap:wrap;\n",
              "      gap: 12px;\n",
              "    }\n",
              "\n",
              "    .colab-df-convert {\n",
              "      background-color: #E8F0FE;\n",
              "      border: none;\n",
              "      border-radius: 50%;\n",
              "      cursor: pointer;\n",
              "      display: none;\n",
              "      fill: #1967D2;\n",
              "      height: 32px;\n",
              "      padding: 0 0 0 0;\n",
              "      width: 32px;\n",
              "    }\n",
              "\n",
              "    .colab-df-convert:hover {\n",
              "      background-color: #E2EBFA;\n",
              "      box-shadow: 0px 1px 2px rgba(60, 64, 67, 0.3), 0px 1px 3px 1px rgba(60, 64, 67, 0.15);\n",
              "      fill: #174EA6;\n",
              "    }\n",
              "\n",
              "    [theme=dark] .colab-df-convert {\n",
              "      background-color: #3B4455;\n",
              "      fill: #D2E3FC;\n",
              "    }\n",
              "\n",
              "    [theme=dark] .colab-df-convert:hover {\n",
              "      background-color: #434B5C;\n",
              "      box-shadow: 0px 1px 3px 1px rgba(0, 0, 0, 0.15);\n",
              "      filter: drop-shadow(0px 1px 2px rgba(0, 0, 0, 0.3));\n",
              "      fill: #FFFFFF;\n",
              "    }\n",
              "  </style>\n",
              "\n",
              "      <script>\n",
              "        const buttonEl =\n",
              "          document.querySelector('#df-a7d28aaf-7d0a-4dbc-9567-94b3dddd5d13 button.colab-df-convert');\n",
              "        buttonEl.style.display =\n",
              "          google.colab.kernel.accessAllowed ? 'block' : 'none';\n",
              "\n",
              "        async function convertToInteractive(key) {\n",
              "          const element = document.querySelector('#df-a7d28aaf-7d0a-4dbc-9567-94b3dddd5d13');\n",
              "          const dataTable =\n",
              "            await google.colab.kernel.invokeFunction('convertToInteractive',\n",
              "                                                     [key], {});\n",
              "          if (!dataTable) return;\n",
              "\n",
              "          const docLinkHtml = 'Like what you see? Visit the ' +\n",
              "            '<a target=\"_blank\" href=https://colab.research.google.com/notebooks/data_table.ipynb>data table notebook</a>'\n",
              "            + ' to learn more about interactive tables.';\n",
              "          element.innerHTML = '';\n",
              "          dataTable['output_type'] = 'display_data';\n",
              "          await google.colab.output.renderOutput(dataTable, element);\n",
              "          const docLink = document.createElement('div');\n",
              "          docLink.innerHTML = docLinkHtml;\n",
              "          element.appendChild(docLink);\n",
              "        }\n",
              "      </script>\n",
              "    </div>\n",
              "  </div>\n",
              "  "
            ]
          },
          "metadata": {},
          "execution_count": 31
        }
      ]
    },
    {
      "cell_type": "markdown",
      "source": [
        "### 🛠️ Criando modelo"
      ],
      "metadata": {
        "id": "V3cLpj2VO9hj"
      }
    },
    {
      "cell_type": "code",
      "source": [
        "titanic_x = titanic_df.drop(columns=['Survived'])\n",
        "titanic_y = titanic_df['Survived']\n",
        "\n",
        "titanic_x_train, titanic_x_test, titanic_y_train, titanic_y_test = train_test_split(titanic_x, titanic_y, test_size = 0.2)"
      ],
      "metadata": {
        "id": "X-G3EGIWA3v0"
      },
      "execution_count": 32,
      "outputs": []
    },
    {
      "cell_type": "markdown",
      "source": [
        "#### **1. Classificador com parâmetros default**"
      ],
      "metadata": {
        "id": "9CzxsmJTrzAZ"
      }
    },
    {
      "cell_type": "code",
      "source": [
        "classifier1 = DecisionTreeClassifier()  \n",
        "classifier1.fit(titanic_x_train, titanic_y_train)"
      ],
      "metadata": {
        "id": "a3hPPp5LOsju"
      },
      "execution_count": null,
      "outputs": []
    },
    {
      "cell_type": "code",
      "source": [
        "plot_tree(classifier1, feature_names=titanic_df.drop(columns=['Survived']).columns)\n",
        "plt.show()"
      ],
      "metadata": {
        "colab": {
          "base_uri": "https://localhost:8080/",
          "height": 406
        },
        "id": "E4CjwDnzr9pW",
        "outputId": "f9cc6312-d183-42f9-d875-d89b25be3902"
      },
      "execution_count": 256,
      "outputs": [
        {
          "output_type": "display_data",
          "data": {
            "text/plain": [
              "<Figure size 640x480 with 1 Axes>"
            ],
            "image/png": "[encoded data removed]"
          },
          "metadata": {}
        }
      ]
    },
    {
      "cell_type": "code",
      "source": [
        "titanic_y_pred = classifier1.predict(titanic_x_test)"
      ],
      "metadata": {
        "id": "6DZ-yQXKrdh7"
      },
      "execution_count": 257,
      "outputs": []
    },
    {
      "cell_type": "code",
      "source": [
        "titanic_report = classification_report(titanic_y_test, titanic_y_pred)\n",
        "print(titanic_report)"
      ],
      "metadata": {
        "colab": {
          "base_uri": "https://localhost:8080/"
        },
        "id": "XUoyOq7frh5w",
        "outputId": "6af4c706-6900-4fcf-aebe-59ab95efa00a"
      },
      "execution_count": 258,
      "outputs": [
        {
          "output_type": "stream",
          "name": "stdout",
          "text": [
            "              precision    recall  f1-score   support\n",
            "\n",
            "           0       0.86      0.81      0.84       116\n",
            "           1       0.69      0.76      0.72        63\n",
            "\n",
            "    accuracy                           0.79       179\n",
            "   macro avg       0.77      0.79      0.78       179\n",
            "weighted avg       0.80      0.79      0.80       179\n",
            "\n"
          ]
        }
      ]
    },
    {
      "cell_type": "code",
      "source": [
        "plot_confusion_matrix(titanic_y_test, titanic_y_pred)"
      ],
      "metadata": {
        "colab": {
          "base_uri": "https://localhost:8080/",
          "height": 217
        },
        "id": "U9kN-TRNrr5y",
        "outputId": "3212d0fd-601f-4e10-8355-aa2cadd323bd"
      },
      "execution_count": 259,
      "outputs": [
        {
          "output_type": "display_data",
          "data": {
            "text/plain": [
              "<Figure size 200x200 with 2 Axes>"
            ],
            "image/png": "[encoded data removed]"
          },
          "metadata": {}
        }
      ]
    },
    {
      "cell_type": "code",
      "source": [
        "titanic_y_pred = classifier1.predict(titanic_x_train)\n",
        "titanic_report = classification_report(titanic_y_train, titanic_y_pred)\n",
        "print(titanic_report)\n",
        "plot_confusion_matrix(titanic_y_train, titanic_y_pred)"
      ],
      "metadata": {
        "colab": {
          "base_uri": "https://localhost:8080/",
          "height": 383
        },
        "id": "pBPse5qc92f3",
        "outputId": "5e87bdac-3905-457f-8470-f060a0723ec1"
      },
      "execution_count": 261,
      "outputs": [
        {
          "output_type": "stream",
          "name": "stdout",
          "text": [
            "              precision    recall  f1-score   support\n",
            "\n",
            "           0       0.97      1.00      0.99       433\n",
            "           1       1.00      0.96      0.98       279\n",
            "\n",
            "    accuracy                           0.98       712\n",
            "   macro avg       0.99      0.98      0.98       712\n",
            "weighted avg       0.98      0.98      0.98       712\n",
            "\n"
          ]
        },
        {
          "output_type": "display_data",
          "data": {
            "text/plain": [
              "<Figure size 200x200 with 2 Axes>"
            ],
            "image/png": "[encoded data removed]"
          },
          "metadata": {}
        }
      ]
    },
    {
      "cell_type": "markdown",
      "source": [
        "#### **2. Utilizando GridSearchCV**\n",
        "\n"
      ],
      "metadata": {
        "id": "bh6Rv1xL13cq"
      }
    },
    {
      "cell_type": "code",
      "source": [
        "parameters = {\n",
        "    'criterion': [\"gini\", \"entropy\", \"log_loss\"],\n",
        "    'splitter': [\"best\", \"random\"],\n",
        "    'max_depth': [3, 10, 30, None],\n",
        "    'max_features': [\"sqrt\", \"log2\", None],\n",
        "    'min_samples_split': [2, 16, 32],\n",
        "    'max_leaf_nodes': [5, 10, 40, None],\n",
        "    'random_state': [13, 42, 84, None]\n",
        "}"
      ],
      "metadata": {
        "id": "g_OG6gcO17b4"
      },
      "execution_count": 262,
      "outputs": []
    },
    {
      "cell_type": "code",
      "source": [
        "classifier = DecisionTreeClassifier()  "
      ],
      "metadata": {
        "id": "pD1RnpeGqcJv"
      },
      "execution_count": 263,
      "outputs": []
    },
    {
      "cell_type": "code",
      "source": [
        "grid = GridSearchCV(estimator = classifier, param_grid = parameters)\n",
        "grid.fit(titanic_x_train, titanic_y_train)"
      ],
      "metadata": {
        "colab": {
          "base_uri": "https://localhost:8080/",
          "height": 118
        },
        "id": "ZWoIwzbYqYkp",
        "outputId": "491950be-409c-4f6d-877f-0f66f6bfb489"
      },
      "execution_count": 264,
      "outputs": [
        {
          "output_type": "execute_result",
          "data": {
            "text/plain": [
              "GridSearchCV(estimator=DecisionTreeClassifier(),\n",
              "             param_grid={'criterion': ['gini', 'entropy', 'log_loss'],\n",
              "                         'max_depth': [3, 10, 30, None],\n",
              "                         'max_features': ['sqrt', 'log2', None],\n",
              "                         'max_leaf_nodes': [5, 10, 40, None],\n",
              "                         'min_samples_split': [2, 16, 32],\n",
              "                         'random_state': [13, 42, 84, None],\n",
              "                         'splitter': ['best', 'random']})"
            ],
            "text/html": [
              "<style>#sk-container-id-41 {color: black;background-color: white;}#sk-container-id-41 pre{padding: 0;}#sk-container-id-41 div.sk-toggleable {background-color: white;}#sk-container-id-41 label.sk-toggleable__label {cursor: pointer;display: block;width: 100%;margin-bottom: 0;padding: 0.3em;box-sizing: border-box;text-align: center;}#sk-container-id-41 label.sk-toggleable__label-arrow:before {content: \"▸\";float: left;margin-right: 0.25em;color: #696969;}#sk-container-id-41 label.sk-toggleable__label-arrow:hover:before {color: black;}#sk-container-id-41 div.sk-estimator:hover label.sk-toggleable__label-arrow:before {color: black;}#sk-container-id-41 div.sk-toggleable__content {max-height: 0;max-width: 0;overflow: hidden;text-align: left;background-color: #f0f8ff;}#sk-container-id-41 div.sk-toggleable__content pre {margin: 0.2em;color: black;border-radius: 0.25em;background-color: #f0f8ff;}#sk-container-id-41 input.sk-toggleable__control:checked~div.sk-toggleable__content {max-height: 200px;max-width: 100%;overflow: auto;}#sk-container-id-41 input.sk-toggleable__control:checked~label.sk-toggleable__label-arrow:before {content: \"▾\";}#sk-container-id-41 div.sk-estimator input.sk-toggleable__control:checked~label.sk-toggleable__label {background-color: #d4ebff;}#sk-container-id-41 div.sk-label input.sk-toggleable__control:checked~label.sk-toggleable__label {background-color: #d4ebff;}#sk-container-id-41 input.sk-hidden--visually {border: 0;clip: rect(1px 1px 1px 1px);clip: rect(1px, 1px, 1px, 1px);height: 1px;margin: -1px;overflow: hidden;padding: 0;position: absolute;width: 1px;}#sk-container-id-41 div.sk-estimator {font-family: monospace;background-color: #f0f8ff;border: 1px dotted black;border-radius: 0.25em;box-sizing: border-box;margin-bottom: 0.5em;}#sk-container-id-41 div.sk-estimator:hover {background-color: #d4ebff;}#sk-container-id-41 div.sk-parallel-item::after {content: \"\";width: 100%;border-bottom: 1px solid gray;flex-grow: 1;}#sk-container-id-41 div.sk-label:hover label.sk-toggleable__label {background-color: #d4ebff;}#sk-container-id-41 div.sk-serial::before {content: \"\";position: absolute;border-left: 1px solid gray;box-sizing: border-box;top: 0;bottom: 0;left: 50%;z-index: 0;}#sk-container-id-41 div.sk-serial {display: flex;flex-direction: column;align-items: center;background-color: white;padding-right: 0.2em;padding-left: 0.2em;position: relative;}#sk-container-id-41 div.sk-item {position: relative;z-index: 1;}#sk-container-id-41 div.sk-parallel {display: flex;align-items: stretch;justify-content: center;background-color: white;position: relative;}#sk-container-id-41 div.sk-item::before, #sk-container-id-41 div.sk-parallel-item::before {content: \"\";position: absolute;border-left: 1px solid gray;box-sizing: border-box;top: 0;bottom: 0;left: 50%;z-index: -1;}#sk-container-id-41 div.sk-parallel-item {display: flex;flex-direction: column;z-index: 1;position: relative;background-color: white;}#sk-container-id-41 div.sk-parallel-item:first-child::after {align-self: flex-end;width: 50%;}#sk-container-id-41 div.sk-parallel-item:last-child::after {align-self: flex-start;width: 50%;}#sk-container-id-41 div.sk-parallel-item:only-child::after {width: 0;}#sk-container-id-41 div.sk-dashed-wrapped {border: 1px dashed gray;margin: 0 0.4em 0.5em 0.4em;box-sizing: border-box;padding-bottom: 0.4em;background-color: white;}#sk-container-id-41 div.sk-label label {font-family: monospace;font-weight: bold;display: inline-block;line-height: 1.2em;}#sk-container-id-41 div.sk-label-container {text-align: center;}#sk-container-id-41 div.sk-container {/* jupyter's `normalize.less` sets `[hidden] { display: none; }` but bootstrap.min.css set `[hidden] { display: none !important; }` so we also need the `!important` here to be able to override the default hidden behavior on the sphinx rendered scikit-learn.org. See: https://github.com/scikit-learn/scikit-learn/issues/21755 */display: inline-block !important;position: relative;}#sk-container-id-41 div.sk-text-repr-fallback {display: none;}</style><div id=\"sk-container-id-41\" class=\"sk-top-container\"><div class=\"sk-text-repr-fallback\"><pre>GridSearchCV(estimator=DecisionTreeClassifier(),\n",
              "             param_grid={&#x27;criterion&#x27;: [&#x27;gini&#x27;, &#x27;entropy&#x27;, &#x27;log_loss&#x27;],\n",
              "                         &#x27;max_depth&#x27;: [3, 10, 30, None],\n",
              "                         &#x27;max_features&#x27;: [&#x27;sqrt&#x27;, &#x27;log2&#x27;, None],\n",
              "                         &#x27;max_leaf_nodes&#x27;: [5, 10, 40, None],\n",
              "                         &#x27;min_samples_split&#x27;: [2, 16, 32],\n",
              "                         &#x27;random_state&#x27;: [13, 42, 84, None],\n",
              "                         &#x27;splitter&#x27;: [&#x27;best&#x27;, &#x27;random&#x27;]})</pre><b>In a Jupyter environment, please rerun this cell to show the HTML representation or trust the notebook. <br />On GitHub, the HTML representation is unable to render, please try loading this page with nbviewer.org.</b></div><div class=\"sk-container\" hidden><div class=\"sk-item sk-dashed-wrapped\"><div class=\"sk-label-container\"><div class=\"sk-label sk-toggleable\"><input class=\"sk-toggleable__control sk-hidden--visually\" id=\"sk-estimator-id-61\" type=\"checkbox\" ><label for=\"sk-estimator-id-61\" class=\"sk-toggleable__label sk-toggleable__label-arrow\">GridSearchCV</label><div class=\"sk-toggleable__content\"><pre>GridSearchCV(estimator=DecisionTreeClassifier(),\n",
              "             param_grid={&#x27;criterion&#x27;: [&#x27;gini&#x27;, &#x27;entropy&#x27;, &#x27;log_loss&#x27;],\n",
              "                         &#x27;max_depth&#x27;: [3, 10, 30, None],\n",
              "                         &#x27;max_features&#x27;: [&#x27;sqrt&#x27;, &#x27;log2&#x27;, None],\n",
              "                         &#x27;max_leaf_nodes&#x27;: [5, 10, 40, None],\n",
              "                         &#x27;min_samples_split&#x27;: [2, 16, 32],\n",
              "                         &#x27;random_state&#x27;: [13, 42, 84, None],\n",
              "                         &#x27;splitter&#x27;: [&#x27;best&#x27;, &#x27;random&#x27;]})</pre></div></div></div><div class=\"sk-parallel\"><div class=\"sk-parallel-item\"><div class=\"sk-item\"><div class=\"sk-label-container\"><div class=\"sk-label sk-toggleable\"><input class=\"sk-toggleable__control sk-hidden--visually\" id=\"sk-estimator-id-62\" type=\"checkbox\" ><label for=\"sk-estimator-id-62\" class=\"sk-toggleable__label sk-toggleable__label-arrow\">estimator: DecisionTreeClassifier</label><div class=\"sk-toggleable__content\"><pre>DecisionTreeClassifier()</pre></div></div></div><div class=\"sk-serial\"><div class=\"sk-item\"><div class=\"sk-estimator sk-toggleable\"><input class=\"sk-toggleable__control sk-hidden--visually\" id=\"sk-estimator-id-63\" type=\"checkbox\" ><label for=\"sk-estimator-id-63\" class=\"sk-toggleable__label sk-toggleable__label-arrow\">DecisionTreeClassifier</label><div class=\"sk-toggleable__content\"><pre>DecisionTreeClassifier()</pre></div></div></div></div></div></div></div></div></div></div>"
            ]
          },
          "metadata": {},
          "execution_count": 264
        }
      ]
    },
    {
      "cell_type": "code",
      "source": [
        "print(grid.best_score_)\n",
        "print(grid.best_params_)"
      ],
      "metadata": {
        "colab": {
          "base_uri": "https://localhost:8080/"
        },
        "id": "2M-duG8KrG9K",
        "outputId": "365c575a-934a-4871-9e28-561df0e5c4da"
      },
      "execution_count": 265,
      "outputs": [
        {
          "output_type": "stream",
          "name": "stdout",
          "text": [
            "0.8343346794051021\n",
            "{'criterion': 'gini', 'max_depth': 30, 'max_features': None, 'max_leaf_nodes': 40, 'min_samples_split': 2, 'random_state': None, 'splitter': 'best'}\n"
          ]
        }
      ]
    },
    {
      "cell_type": "code",
      "source": [
        "classifier2 = DecisionTreeClassifier(criterion= 'gini',\n",
        "                                    max_depth= 30,\n",
        "                                    max_features= None,\n",
        "                                    max_leaf_nodes= 40,\n",
        "                                    min_samples_split= 2,\n",
        "                                    random_state= None,\n",
        "                                    splitter= 'best')\n",
        "classifier2.fit(titanic_x_train, titanic_y_train)"
      ],
      "metadata": {
        "id": "ZMqNEz86v3Bo"
      },
      "execution_count": null,
      "outputs": []
    },
    {
      "cell_type": "code",
      "source": [
        "plot_tree(classifier2, feature_names=titanic_df.drop(columns=['Survived']).columns)\n",
        "plt.show()"
      ],
      "metadata": {
        "colab": {
          "base_uri": "https://localhost:8080/",
          "height": 406
        },
        "id": "mTN_ZlxIwIHq",
        "outputId": "7c429dd7-0809-4029-c1d6-bb8fc977c24f"
      },
      "execution_count": 283,
      "outputs": [
        {
          "output_type": "display_data",
          "data": {
            "text/plain": [
              "<Figure size 640x480 with 1 Axes>"
            ],
            "image/png": "[encoded data removed]"
          },
          "metadata": {}
        }
      ]
    },
    {
      "cell_type": "code",
      "source": [
        "titanic_y_pred = classifier2.predict(titanic_x_test)\n",
        "titanic_report = classification_report(titanic_y_test, titanic_y_pred)\n",
        "print(titanic_report)\n",
        "plot_confusion_matrix(titanic_y_test, titanic_y_pred)"
      ],
      "metadata": {
        "colab": {
          "base_uri": "https://localhost:8080/",
          "height": 383
        },
        "id": "k-vZM-yYwaWo",
        "outputId": "821954a9-bb14-4dee-b32e-672521b0c34a"
      },
      "execution_count": 288,
      "outputs": [
        {
          "output_type": "stream",
          "name": "stdout",
          "text": [
            "              precision    recall  f1-score   support\n",
            "\n",
            "           0       0.87      0.94      0.90       116\n",
            "           1       0.87      0.73      0.79        63\n",
            "\n",
            "    accuracy                           0.87       179\n",
            "   macro avg       0.87      0.83      0.85       179\n",
            "weighted avg       0.87      0.87      0.86       179\n",
            "\n"
          ]
        },
        {
          "output_type": "display_data",
          "data": {
            "text/plain": [
              "<Figure size 200x200 with 2 Axes>"
            ],
            "image/png": "[encoded data removed]"
          },
          "metadata": {}
        }
      ]
    },
    {
      "cell_type": "markdown",
      "source": [
        "Checando overfitting:"
      ],
      "metadata": {
        "id": "XVVsSxCzAPnN"
      }
    },
    {
      "cell_type": "code",
      "source": [
        "titanic_y_pred = classifier2.predict(titanic_x_train)\n",
        "titanic_report = classification_report(titanic_y_train, titanic_y_pred)\n",
        "print(titanic_report)\n",
        "plot_confusion_matrix(titanic_y_train, titanic_y_pred)"
      ],
      "metadata": {
        "colab": {
          "base_uri": "https://localhost:8080/",
          "height": 383
        },
        "id": "makfs5we9Y-o",
        "outputId": "d88f0f26-7264-496c-d52d-0f8f618d564c"
      },
      "execution_count": 287,
      "outputs": [
        {
          "output_type": "stream",
          "name": "stdout",
          "text": [
            "              precision    recall  f1-score   support\n",
            "\n",
            "           0       0.89      0.97      0.93       433\n",
            "           1       0.95      0.81      0.87       279\n",
            "\n",
            "    accuracy                           0.91       712\n",
            "   macro avg       0.92      0.89      0.90       712\n",
            "weighted avg       0.91      0.91      0.90       712\n",
            "\n"
          ]
        },
        {
          "output_type": "display_data",
          "data": {
            "text/plain": [
              "<Figure size 200x200 with 2 Axes>"
            ],
            "image/png": "[encoded data removed]"
          },
          "metadata": {}
        }
      ]
    },
    {
      "cell_type": "markdown",
      "source": [
        "#### **3. Tentando obter uma árvore menor com score similar**"
      ],
      "metadata": {
        "id": "MQNJTskpwQd3"
      }
    },
    {
      "cell_type": "code",
      "source": [
        "parameters = {\n",
        "    'criterion': [\"gini\", \"entropy\", \"log_loss\"],\n",
        "    'splitter': [\"best\", \"random\"],\n",
        "    'max_depth': [2, 4, 6],\n",
        "    'max_features': [\"sqrt\", \"log2\", None],\n",
        "    'min_samples_split': [2, 4, 8],\n",
        "    'max_leaf_nodes': [4, 7, 10],\n",
        "    'random_state': [13, 42, 84, None]\n",
        "}"
      ],
      "metadata": {
        "id": "Z89SBaacyup6"
      },
      "execution_count": 272,
      "outputs": []
    },
    {
      "cell_type": "code",
      "source": [
        "classifier = DecisionTreeClassifier()"
      ],
      "metadata": {
        "id": "0AD-Bp-4yZhe"
      },
      "execution_count": 273,
      "outputs": []
    },
    {
      "cell_type": "code",
      "source": [
        "grid = GridSearchCV(estimator = classifier, param_grid = parameters)\n",
        "grid.fit(titanic_x_train, titanic_y_train)"
      ],
      "metadata": {
        "id": "glpdPv5ZzIGj"
      },
      "execution_count": null,
      "outputs": []
    },
    {
      "cell_type": "code",
      "source": [
        "print(grid.best_score_)\n",
        "print(grid.best_params_)"
      ],
      "metadata": {
        "colab": {
          "base_uri": "https://localhost:8080/"
        },
        "id": "LOGbU1qPzO1u",
        "outputId": "b533c892-d2de-4fcc-92d9-7e98b0619d7c"
      },
      "execution_count": 275,
      "outputs": [
        {
          "output_type": "stream",
          "name": "stdout",
          "text": [
            "0.8329065300896286\n",
            "{'criterion': 'gini', 'max_depth': 4, 'max_features': None, 'max_leaf_nodes': 10, 'min_samples_split': 2, 'random_state': 13, 'splitter': 'random'}\n"
          ]
        }
      ]
    },
    {
      "cell_type": "code",
      "source": [
        "classifier3 = DecisionTreeClassifier(criterion= 'gini',\n",
        "                                    max_depth= 4,\n",
        "                                    max_features= None,\n",
        "                                    max_leaf_nodes= 10,\n",
        "                                    min_samples_split= 2,\n",
        "                                    random_state= 13,\n",
        "                                    splitter= 'random')\n",
        "classifier3.fit(titanic_x_train, titanic_y_train)"
      ],
      "metadata": {
        "id": "j7Ex4nj30Ggk"
      },
      "execution_count": null,
      "outputs": []
    },
    {
      "cell_type": "code",
      "source": [
        "plot_tree(classifier3, feature_names=titanic_df.drop(columns=['Survived']).columns)\n",
        "plt.show()"
      ],
      "metadata": {
        "colab": {
          "base_uri": "https://localhost:8080/",
          "height": 406
        },
        "id": "wzvHbRmN0NNR",
        "outputId": "4d58b0af-f45f-498f-86e0-fc1e0cec8e47"
      },
      "execution_count": 277,
      "outputs": [
        {
          "output_type": "display_data",
          "data": {
            "text/plain": [
              "<Figure size 640x480 with 1 Axes>"
            ],
            "image/png": "[encoded data removed]"
          },
          "metadata": {}
        }
      ]
    },
    {
      "cell_type": "code",
      "source": [
        "titanic_y_pred = classifier3.predict(titanic_x_test)\n",
        "titanic_report = classification_report(titanic_y_test, titanic_y_pred)\n",
        "print(titanic_report)\n",
        "plot_confusion_matrix(titanic_y_test, titanic_y_pred)"
      ],
      "metadata": {
        "colab": {
          "base_uri": "https://localhost:8080/",
          "height": 383
        },
        "id": "bxVUA0iyyopX",
        "outputId": "cd7ed8f5-3b79-498f-8326-3275b018d692"
      },
      "execution_count": 294,
      "outputs": [
        {
          "output_type": "stream",
          "name": "stdout",
          "text": [
            "              precision    recall  f1-score   support\n",
            "\n",
            "           0       0.84      0.93      0.88       116\n",
            "           1       0.84      0.67      0.74        63\n",
            "\n",
            "    accuracy                           0.84       179\n",
            "   macro avg       0.84      0.80      0.81       179\n",
            "weighted avg       0.84      0.84      0.83       179\n",
            "\n"
          ]
        },
        {
          "output_type": "display_data",
          "data": {
            "text/plain": [
              "<Figure size 200x200 with 2 Axes>"
            ],
            "image/png": "[encoded data removed]"
          },
          "metadata": {}
        }
      ]
    },
    {
      "cell_type": "markdown",
      "source": [
        "**Verificando overfitting**"
      ],
      "metadata": {
        "id": "ove-Rlli9NnQ"
      }
    },
    {
      "cell_type": "code",
      "source": [
        "titanic_y_pred = classifier3.predict(titanic_x_train)\n",
        "titanic_report = classification_report(titanic_y_train, titanic_y_pred)\n",
        "print(titanic_report)\n",
        "plot_confusion_matrix(titanic_y_train, titanic_y_pred)"
      ],
      "metadata": {
        "colab": {
          "base_uri": "https://localhost:8080/",
          "height": 383
        },
        "id": "O8E7CHLa9MEf",
        "outputId": "21ed91cc-b653-4559-cef2-a52972981d96"
      },
      "execution_count": 281,
      "outputs": [
        {
          "output_type": "stream",
          "name": "stdout",
          "text": [
            "              precision    recall  f1-score   support\n",
            "\n",
            "           0       0.81      0.96      0.88       433\n",
            "           1       0.91      0.65      0.76       279\n",
            "\n",
            "    accuracy                           0.84       712\n",
            "   macro avg       0.86      0.80      0.82       712\n",
            "weighted avg       0.85      0.84      0.83       712\n",
            "\n"
          ]
        },
        {
          "output_type": "display_data",
          "data": {
            "text/plain": [
              "<Figure size 200x200 with 2 Axes>"
            ],
            "image/png": "[encoded data removed]"
          },
          "metadata": {}
        }
      ]
    },
    {
      "cell_type": "markdown",
      "source": [
        "## 🎲 **Utilizando Random Forests**\n",
        "\n",
        "Aplicando o RandomForestClassifier com a configuração default no problema Titanic."
      ],
      "metadata": {
        "id": "gZTwPPADBcAM"
      }
    },
    {
      "cell_type": "code",
      "source": [
        "classifier4 = RandomForestClassifier()\n",
        "classifier4.fit(titanic_x_train, titanic_y_train)"
      ],
      "metadata": {
        "id": "iJRxst3lBeya"
      },
      "execution_count": null,
      "outputs": []
    },
    {
      "cell_type": "code",
      "source": [
        "titanic_y_pred = classifier4.predict(titanic_x_test)"
      ],
      "metadata": {
        "id": "RQ1zxe3Y37mg"
      },
      "execution_count": 129,
      "outputs": []
    },
    {
      "cell_type": "code",
      "source": [
        "titanic_report = classification_report(titanic_y_test, titanic_y_pred)\n",
        "print(titanic_report)"
      ],
      "metadata": {
        "colab": {
          "base_uri": "https://localhost:8080/"
        },
        "id": "UgeZhNzN38n3",
        "outputId": "3dd7dbb4-6673-4133-ae8f-ea307d56dda5"
      },
      "execution_count": 130,
      "outputs": [
        {
          "output_type": "stream",
          "name": "stdout",
          "text": [
            "              precision    recall  f1-score   support\n",
            "\n",
            "           0       0.88      0.86      0.87       116\n",
            "           1       0.75      0.78      0.77        63\n",
            "\n",
            "    accuracy                           0.83       179\n",
            "   macro avg       0.82      0.82      0.82       179\n",
            "weighted avg       0.83      0.83      0.83       179\n",
            "\n"
          ]
        }
      ]
    },
    {
      "cell_type": "code",
      "source": [
        "plot_confusion_matrix(titanic_y_test, titanic_y_pred)"
      ],
      "metadata": {
        "colab": {
          "base_uri": "https://localhost:8080/",
          "height": 222
        },
        "id": "L2Tf7yHc3902",
        "outputId": "be6965e8-3647-4661-8cb4-d81f7f709bb8"
      },
      "execution_count": 131,
      "outputs": [
        {
          "output_type": "display_data",
          "data": {
            "text/plain": [
              "<Figure size 200x200 with 2 Axes>"
            ],
            "image/png": "[encoded data removed]"
          },
          "metadata": {}
        }
      ]
    },
    {
      "cell_type": "markdown",
      "source": [
        "## ⛑️ **Utilizando AD no problema de Detecção de Lombalgia**"
      ],
      "metadata": {
        "id": "dAWgT7VeBe7k"
      }
    },
    {
      "cell_type": "code",
      "source": [
        "pain_x = pain_df.drop(columns=['Class_att'])\n",
        "pain_y = pain_df['Class_att']\n",
        "\n",
        "pain_x_train, pain_x_test, pain_y_train, pain_y_test = train_test_split(pain_x, pain_y, test_size = 0.3)"
      ],
      "metadata": {
        "id": "vSs3U5neBktG"
      },
      "execution_count": 290,
      "outputs": []
    },
    {
      "cell_type": "code",
      "source": [
        "classifier5 = DecisionTreeClassifier()  \n",
        "classifier5.fit(pain_x_train, pain_y_train)"
      ],
      "metadata": {
        "id": "neXc0K5v7vh4"
      },
      "execution_count": null,
      "outputs": []
    },
    {
      "cell_type": "code",
      "source": [
        "plot_tree(classifier5, feature_names=pain_df.drop(columns=['Class_att']).columns)\n",
        "plt.show()"
      ],
      "metadata": {
        "colab": {
          "base_uri": "https://localhost:8080/",
          "height": 406
        },
        "id": "jd3JsDUe7yzu",
        "outputId": "9d9c2a6a-45cb-4dfd-8569-6ce65eb70731"
      },
      "execution_count": 292,
      "outputs": [
        {
          "output_type": "display_data",
          "data": {
            "text/plain": [
              "<Figure size 640x480 with 1 Axes>"
            ],
            "image/png": "[encoded data removed]"
          },
          "metadata": {}
        }
      ]
    },
    {
      "cell_type": "code",
      "source": [
        "pain_y_pred = classifier5.predict(pain_x_test)\n",
        "pain_report = classification_report(pain_y_test, pain_y_pred)\n",
        "print(pain_report)\n",
        "plot_confusion_matrix(pain_y_test, pain_y_pred)"
      ],
      "metadata": {
        "colab": {
          "base_uri": "https://localhost:8080/",
          "height": 383
        },
        "id": "7oYwXt3f74V3",
        "outputId": "31580f7f-3017-413f-abb6-31ea080bfcaf"
      },
      "execution_count": 293,
      "outputs": [
        {
          "output_type": "stream",
          "name": "stdout",
          "text": [
            "              precision    recall  f1-score   support\n",
            "\n",
            "    Abnormal       0.88      0.80      0.84        61\n",
            "      Normal       0.68      0.78      0.72        32\n",
            "\n",
            "    accuracy                           0.80        93\n",
            "   macro avg       0.78      0.79      0.78        93\n",
            "weighted avg       0.81      0.80      0.80        93\n",
            "\n"
          ]
        },
        {
          "output_type": "display_data",
          "data": {
            "text/plain": [
              "<Figure size 200x200 with 2 Axes>"
            ],
            "image/png": "[encoded data removed]"
          },
          "metadata": {}
        }
      ]
    },
    {
      "cell_type": "markdown",
      "source": [
        "## ✏️ **Conclusão**"
      ],
      "metadata": {
        "id": "aV8ndojLBovz"
      }
    },
    {
      "cell_type": "markdown",
      "source": [
        "### **Titanic**"
      ],
      "metadata": {
        "id": "Ol7mfVQFA_dx"
      }
    },
    {
      "cell_type": "markdown",
      "source": [
        "**Árvore com configuração padrão:**\n",
        "  - Acurácia na base de teste: 0.79\n",
        "  - Acurácia na base de treino: 0.98 (overfitting!)\n",
        "\n",
        "**Árvore com configuração 1:**\n",
        "\n",
        "```\n",
        "{'criterion': 'gini', 'max_depth': 30, 'max_features': None, 'max_leaf_nodes': 40, 'min_samples_split': 2, 'random_state': None, 'splitter': 'best'}\n",
        "```\n",
        "\n",
        "  - Maior score no grid: 0.83\n",
        "  - Acurácia na base de teste: 0.87\n",
        "  - Acurácia na base de treino: 0.91\n",
        "\n",
        "**Árvore com configuração 2:**\n",
        "\n",
        "```\n",
        "{'criterion': 'gini', 'max_depth': 4, 'max_features': None, 'max_leaf_nodes': 10, 'min_samples_split': 2, 'random_state': 13, 'splitter': 'random'}\n",
        "```\n",
        "\n",
        "  - Maior score no grid: 0.83\n",
        "  - Acurácia na base de teste: 0.84\n",
        "  - Acurácia na base de treino: 0.84\n",
        "\n",
        "**Random Forest** com configuração padrão\n",
        "\n",
        "  - Acurácia: 0.83\n",
        "\n"
      ],
      "metadata": {
        "id": "TFPpoVFGBrDg"
      }
    },
    {
      "cell_type": "markdown",
      "source": [
        "### **Detecção de Lombalgia**"
      ],
      "metadata": {
        "id": "q_-jJ_FLBAfM"
      }
    },
    {
      "cell_type": "markdown",
      "source": [
        "  - Acurácia com MLP: 0.82\n",
        "  - Acurácia com AD (configuração padrão): 0.80"
      ],
      "metadata": {
        "id": "qlVha-hrBQ88"
      }
    }
  ]
}