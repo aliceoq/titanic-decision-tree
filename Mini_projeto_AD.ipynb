{
  "nbformat": 4,
  "nbformat_minor": 0,
  "metadata": {
    "colab": {
      "provenance": []
    },
    "kernelspec": {
      "name": "python3",
      "display_name": "Python 3"
    },
    "language_info": {
      "name": "python"
    }
  },
  "cells": [
    {
      "cell_type": "markdown",
      "source": [
        "# **Ávore de Decisão**\n",
        "**Mini-projeto 2 - Sistemas Inteligentes**\n",
        "\n",
        "Prof. Germano Crispim Vasconcelos\n",
        "\n",
        "Equipe 6\n",
        "- Alice Oliveira - aoqb\n",
        "- Ana Albuquerque - alas3\n",
        "- Enrique Laborão - elm2\n",
        "- Victória Luisi - vlsc\n",
        "- Olivia Tavares - obtmc"
      ],
      "metadata": {
        "id": "vOZ9pQzvA35C"
      }
    },
    {
      "cell_type": "markdown",
      "source": [
        "## ⚙️ **Setup**\n",
        "\n",
        "Importando dependências, conectando Google Drive, lendo datasets e criando os respectivos dataframes."
      ],
      "metadata": {
        "id": "LwwHyFyZCDZ1"
      }
    },
    {
      "cell_type": "markdown",
      "source": [
        "### Dependências"
      ],
      "metadata": {
        "id": "M4XT12rQiv5Q"
      }
    },
    {
      "cell_type": "code",
      "source": [
        "import numpy as np\n",
        "import pandas as pd\n",
        "\n",
        "import matplotlib.pyplot as plt\n",
        "import seaborn as sns\n",
        "\n",
        "from sklearn.ensemble import RandomForestClassifier\n",
        "from sklearn.tree import DecisionTreeClassifier, plot_tree\n",
        "from sklearn.model_selection import train_test_split, GridSearchCV\n",
        "from sklearn.metrics import classification_report, accuracy_score, precision_score, recall_score, f1_score, roc_auc_score, confusion_matrix"
      ],
      "metadata": {
        "id": "rcXBH8MBDDU9"
      },
      "execution_count": 1,
      "outputs": []
    },
    {
      "cell_type": "markdown",
      "source": [
        "### Drive"
      ],
      "metadata": {
        "id": "75VD6FONiyw7"
      }
    },
    {
      "cell_type": "code",
      "source": [
        "from google.colab import drive\n",
        "drive.mount('/content/drive')\n",
        "\n",
        "base_path = '/content/drive/MyDrive/'"
      ],
      "metadata": {
        "colab": {
          "base_uri": "https://localhost:8080/"
        },
        "id": "iV3bTXMXUlpv",
        "outputId": "c15a054e-0674-4a2a-bf37-2ee1031f9870"
      },
      "execution_count": 2,
      "outputs": [
        {
          "output_type": "stream",
          "name": "stdout",
          "text": [
            "Mounted at /content/drive\n"
          ]
        }
      ]
    },
    {
      "cell_type": "markdown",
      "source": [
        "IRIS Dataset - https://www.kaggle.com/datasets/arshid/iris-flower-dataset"
      ],
      "metadata": {
        "id": "6kPfVvSkWrL6"
      }
    },
    {
      "cell_type": "code",
      "source": [
        "iris_dataset_path = base_path + 'IRIS.csv'"
      ],
      "metadata": {
        "id": "idADOF0SUmPN"
      },
      "execution_count": 3,
      "outputs": []
    },
    {
      "cell_type": "markdown",
      "source": [
        "Titanic Dataset - https://www.kaggle.com/c/titanic/data"
      ],
      "metadata": {
        "id": "_kK9kaNXX38T"
      }
    },
    {
      "cell_type": "code",
      "source": [
        "titanic_train_dataset_path = base_path + 'titanic/train.csv'\n",
        "titanic_test_dataset_path = base_path + 'titanic/test.csv'"
      ],
      "metadata": {
        "id": "IPYbl51vX_CK"
      },
      "execution_count": 4,
      "outputs": []
    },
    {
      "cell_type": "markdown",
      "source": [
        "Lower Back Pain Symptoms Dataset - https://www.kaggle.com/datasets/sammy123/lower-back-pain-symptoms-dataset"
      ],
      "metadata": {
        "id": "wctQ-VGGlcP-"
      }
    },
    {
      "cell_type": "code",
      "source": [
        "pain_dataset_path = base_path + 'Dataset_spine.csv'"
      ],
      "metadata": {
        "id": "r8iyWQVJlbmb"
      },
      "execution_count": 5,
      "outputs": []
    },
    {
      "cell_type": "markdown",
      "source": [
        "### Lendo datasets\n"
      ],
      "metadata": {
        "id": "RkgrXB1Yi1uD"
      }
    },
    {
      "cell_type": "code",
      "source": [
        "iris_df = pd.read_csv(iris_dataset_path)"
      ],
      "metadata": {
        "id": "LDTS0JLQi3up"
      },
      "execution_count": 6,
      "outputs": []
    },
    {
      "cell_type": "code",
      "source": [
        "titanic_df = pd.read_csv(titanic_train_dataset_path)\n",
        "titanic_test_df = pd.read_csv(titanic_test_dataset_path) # Não possui a coluna de classificação (Survived)"
      ],
      "metadata": {
        "id": "PNp5NTrkj23Z"
      },
      "execution_count": 7,
      "outputs": []
    },
    {
      "cell_type": "code",
      "source": [
        "pain_df = pd.read_csv(pain_dataset_path)\n",
        "pain_df = pain_df.drop(pain_df.columns[[13]], axis=1) # Removendo a coluna 13"
      ],
      "metadata": {
        "id": "3ku6cmNtmA0H"
      },
      "execution_count": 8,
      "outputs": []
    },
    {
      "cell_type": "markdown",
      "source": [
        "### Funções"
      ],
      "metadata": {
        "id": "83QTEtas9v9P"
      }
    },
    {
      "cell_type": "code",
      "source": [
        "def predict_and_report(title, classifier, x_test, y_test, y_train, x_train):\n",
        "  y_pred = classifier.predict(x_test)\n",
        "  report = classification_report(y_test, y_pred)\n",
        "  print(title + \"- base de teste\")\n",
        "  print(report)\n",
        "  plot_confusion_matrix(y_test, y_pred)\n",
        "  print(\"------------------------------------------------------\")\n",
        "  y_pred = classifier.predict(x_train)\n",
        "  report = classification_report(y_train, y_pred)\n",
        "  print(title + \"- base de treino\")\n",
        "  print(report)"
      ],
      "metadata": {
        "id": "gcizqw5OS5zG"
      },
      "execution_count": 190,
      "outputs": []
    },
    {
      "cell_type": "code",
      "source": [
        "def plot_confusion_matrix(y_test, y_pred):\n",
        "  cm = confusion_matrix(y_test, y_pred)\n",
        "  fig, ax = plt.subplots(figsize=(2,2))\n",
        "  sns.heatmap(cm, annot=True, fmt='d')"
      ],
      "metadata": {
        "id": "9X2xFVKp9vTR"
      },
      "execution_count": 9,
      "outputs": []
    },
    {
      "cell_type": "markdown",
      "source": [
        "## 🧪 **Experimento: Iris Flower Dataset**"
      ],
      "metadata": {
        "id": "YSEmaOGYBJ4c"
      }
    },
    {
      "cell_type": "markdown",
      "source": [
        "### 🔎 Análise do Dataset"
      ],
      "metadata": {
        "id": "IbnwXNQtlxoD"
      }
    },
    {
      "cell_type": "code",
      "source": [
        "iris_df.info()"
      ],
      "metadata": {
        "colab": {
          "base_uri": "https://localhost:8080/"
        },
        "id": "Lgo4Q1H8rC_J",
        "outputId": "bb9fa2a5-cdc1-4e05-b374-977e28a9c7a8"
      },
      "execution_count": 10,
      "outputs": [
        {
          "output_type": "stream",
          "name": "stdout",
          "text": [
            "<class 'pandas.core.frame.DataFrame'>\n",
            "RangeIndex: 150 entries, 0 to 149\n",
            "Data columns (total 5 columns):\n",
            " #   Column        Non-Null Count  Dtype  \n",
            "---  ------        --------------  -----  \n",
            " 0   sepal_length  150 non-null    float64\n",
            " 1   sepal_width   150 non-null    float64\n",
            " 2   petal_length  150 non-null    float64\n",
            " 3   petal_width   150 non-null    float64\n",
            " 4   species       150 non-null    object \n",
            "dtypes: float64(4), object(1)\n",
            "memory usage: 6.0+ KB\n"
          ]
        }
      ]
    },
    {
      "cell_type": "code",
      "source": [
        "iris_df['species'].unique()"
      ],
      "metadata": {
        "colab": {
          "base_uri": "https://localhost:8080/"
        },
        "id": "PUPwaNKVn0BD",
        "outputId": "32053c86-5f80-4dac-ea01-24f16583e319"
      },
      "execution_count": 11,
      "outputs": [
        {
          "output_type": "execute_result",
          "data": {
            "text/plain": [
              "array(['Iris-setosa', 'Iris-versicolor', 'Iris-virginica'], dtype=object)"
            ]
          },
          "metadata": {},
          "execution_count": 11
        }
      ]
    },
    {
      "cell_type": "code",
      "source": [
        "iris_df['species'].value_counts()"
      ],
      "metadata": {
        "colab": {
          "base_uri": "https://localhost:8080/"
        },
        "id": "GU8MSiXsongg",
        "outputId": "e22d0227-86c9-45e0-a52e-c777de62e794"
      },
      "execution_count": 12,
      "outputs": [
        {
          "output_type": "execute_result",
          "data": {
            "text/plain": [
              "Iris-setosa        50\n",
              "Iris-versicolor    50\n",
              "Iris-virginica     50\n",
              "Name: species, dtype: int64"
            ]
          },
          "metadata": {},
          "execution_count": 12
        }
      ]
    },
    {
      "cell_type": "code",
      "source": [
        "#iris_df.describe()"
      ],
      "metadata": {
        "id": "_WhNfBGaopNv"
      },
      "execution_count": 13,
      "outputs": []
    },
    {
      "cell_type": "code",
      "source": [
        "#sns.pairplot(iris_df, hue ='species')"
      ],
      "metadata": {
        "id": "owTmUzMmrPJC"
      },
      "execution_count": 14,
      "outputs": []
    },
    {
      "cell_type": "code",
      "source": [
        "#iris_df.hist(bins=50, figsize=(5,5))\n",
        "#plt.show()"
      ],
      "metadata": {
        "id": "AgEkq1_2udcE"
      },
      "execution_count": 15,
      "outputs": []
    },
    {
      "cell_type": "code",
      "source": [
        "#sns.set_style(\"whitegrid\")\n",
        "#data = np.random.normal(size=(20, 6)) + np.arange(6) / 2\n",
        "#sns.set(rc={'figure.figsize':(7,4)})\n",
        "#sns.boxplot(data = iris_df.iloc[:,:-1])"
      ],
      "metadata": {
        "id": "C8GZF-qI0_-f"
      },
      "execution_count": 16,
      "outputs": []
    },
    {
      "cell_type": "markdown",
      "source": [
        "### 🛠️ Criando modelo\n"
      ],
      "metadata": {
        "id": "jcvstXinl3Xd"
      }
    },
    {
      "cell_type": "code",
      "execution_count": 17,
      "metadata": {
        "id": "F3rHOPGRA0yl"
      },
      "outputs": [],
      "source": [
        "iris_x = iris_df.iloc[:, :-1]\n",
        "iris_y = iris_df.iloc[:, -1]\n",
        "iris_x_train, iris_x_test, iris_y_train, iris_y_test = train_test_split(iris_x, iris_y, test_size = 0.25, random_state = 0) "
      ]
    },
    {
      "cell_type": "code",
      "source": [
        "classifier = DecisionTreeClassifier()  \n",
        "classifier.fit(iris_x_train, iris_y_train)"
      ],
      "metadata": {
        "id": "uDD9Oikv5KZA"
      },
      "execution_count": null,
      "outputs": []
    },
    {
      "cell_type": "code",
      "source": [
        "plot_tree(classifier, feature_names=iris_df.columns[: -1])\n",
        "plt.show()"
      ],
      "metadata": {
        "colab": {
          "base_uri": "https://localhost:8080/",
          "height": 406
        },
        "id": "oDL_xFa6CuXT",
        "outputId": "22256ac3-7959-4103-a627-96e7dd4cb94e"
      },
      "execution_count": 19,
      "outputs": [
        {
          "output_type": "display_data",
          "data": {
            "text/plain": [
              "<Figure size 640x480 with 1 Axes>"
            ],
            "image/png": "[encoded data removed]"
          },
          "metadata": {}
        }
      ]
    },
    {
      "cell_type": "code",
      "source": [
        "iris_y_pred = classifier.predict(iris_x_test)"
      ],
      "metadata": {
        "id": "cEp2JEZl5nv7"
      },
      "execution_count": 20,
      "outputs": []
    },
    {
      "cell_type": "code",
      "source": [
        "report = classification_report(iris_y_test, iris_y_pred)"
      ],
      "metadata": {
        "id": "FJYwNsZO5sFI"
      },
      "execution_count": 21,
      "outputs": []
    },
    {
      "cell_type": "code",
      "source": [
        "print(report)"
      ],
      "metadata": {
        "colab": {
          "base_uri": "https://localhost:8080/"
        },
        "id": "hJ6dkFc79oxk",
        "outputId": "f6e482ab-bab1-4c36-cf77-f7b33e19ec29"
      },
      "execution_count": 22,
      "outputs": [
        {
          "output_type": "stream",
          "name": "stdout",
          "text": [
            "                 precision    recall  f1-score   support\n",
            "\n",
            "    Iris-setosa       1.00      1.00      1.00        13\n",
            "Iris-versicolor       1.00      0.94      0.97        16\n",
            " Iris-virginica       0.90      1.00      0.95         9\n",
            "\n",
            "       accuracy                           0.97        38\n",
            "      macro avg       0.97      0.98      0.97        38\n",
            "   weighted avg       0.98      0.97      0.97        38\n",
            "\n"
          ]
        }
      ]
    },
    {
      "cell_type": "code",
      "source": [
        "plot_confusion_matrix(iris_y_test, iris_y_pred)"
      ],
      "metadata": {
        "colab": {
          "base_uri": "https://localhost:8080/",
          "height": 220
        },
        "id": "yxQk4SK191Dx",
        "outputId": "06180f5a-f976-4361-abb0-fdb0ee4936c2"
      },
      "execution_count": 23,
      "outputs": [
        {
          "output_type": "display_data",
          "data": {
            "text/plain": [
              "<Figure size 200x200 with 2 Axes>"
            ],
            "image/png": "[encoded data removed]"
          },
          "metadata": {}
        }
      ]
    },
    {
      "cell_type": "markdown",
      "source": [
        "## 🛳️ **Projeto: Titanic Dataset**"
      ],
      "metadata": {
        "id": "_I1-QjdbBUU6"
      }
    },
    {
      "cell_type": "markdown",
      "source": [
        "### 🔎 Análise e limpeza do Dataset"
      ],
      "metadata": {
        "id": "IYq0Une8O4X9"
      }
    },
    {
      "cell_type": "markdown",
      "source": [
        "#### Valores faltantes\n",
        "A primeira análise feita é verificar os valores faltantes. **Três colunas possuem valores nulos: Age, Cabin e Embarked.** Cada coluna terá um tratamento apropriado."
      ],
      "metadata": {
        "id": "XxFIxczgKt1p"
      }
    },
    {
      "cell_type": "code",
      "source": [
        "titanic_df.shape"
      ],
      "metadata": {
        "colab": {
          "base_uri": "https://localhost:8080/"
        },
        "id": "30o3RhS8MQmo",
        "outputId": "e93d236e-a495-45bc-d33f-468f37411f67"
      },
      "execution_count": 24,
      "outputs": [
        {
          "output_type": "execute_result",
          "data": {
            "text/plain": [
              "(891, 12)"
            ]
          },
          "metadata": {},
          "execution_count": 24
        }
      ]
    },
    {
      "cell_type": "code",
      "source": [
        "#titanic_df.info()\n",
        "titanic_df.isnull().sum()"
      ],
      "metadata": {
        "colab": {
          "base_uri": "https://localhost:8080/"
        },
        "id": "YUyxGA3HHR-3",
        "outputId": "b9c441e6-a55e-4c70-e479-687d6dcbb03b"
      },
      "execution_count": 25,
      "outputs": [
        {
          "output_type": "execute_result",
          "data": {
            "text/plain": [
              "PassengerId      0\n",
              "Survived         0\n",
              "Pclass           0\n",
              "Name             0\n",
              "Sex              0\n",
              "Age            177\n",
              "SibSp            0\n",
              "Parch            0\n",
              "Ticket           0\n",
              "Fare             0\n",
              "Cabin          687\n",
              "Embarked         2\n",
              "dtype: int64"
            ]
          },
          "metadata": {},
          "execution_count": 25
        }
      ]
    },
    {
      "cell_type": "markdown",
      "source": [
        "##### Age"
      ],
      "metadata": {
        "id": "YhqN8W7PMkBH"
      }
    },
    {
      "cell_type": "markdown",
      "source": [
        "- Como é uma coluna de valores numéricos, que a maioria dos valores não é nulo e que acreditamos ter grande relevância para a sobrevivência ou não, será utilizado um método de substituir os valores nulos por um outro valor.\n",
        "- No plot vemos que se aproxima de uma distribuição assimétrica para a direita, então, então podemos **substituir os valores faltantes pela mediana**. [[1]](https://vitalflux.com/pandas-impute-missing-values-mean-median-mode/#How_to_decide_which_imputation_technique_to_use)\n",
        "- 🚩 **Idealmente, deveríamos analisar a correlação entre a idade e outras features, observando a existência de uma correlação, então os valores nulos deveriam ser substituídos pela mediana do subconjunto (separado pelas outras features correlacionadas).** Não fizemos isso por não achar necessário para o escopo do projeto."
      ],
      "metadata": {
        "id": "UloPUm0QYgw7"
      }
    },
    {
      "cell_type": "code",
      "source": [
        "sns.set(font_scale=0.8) \n",
        "sns.displot(titanic_df['Age'], height=3)\n",
        "plt.show()"
      ],
      "metadata": {
        "colab": {
          "base_uri": "https://localhost:8080/",
          "height": 308
        },
        "id": "UTrzA1i4Uw_3",
        "outputId": "45ef58e4-32a0-4c90-b721-af7c356a2b7e"
      },
      "execution_count": 26,
      "outputs": [
        {
          "output_type": "display_data",
          "data": {
            "text/plain": [
              "<Figure size 300x300 with 1 Axes>"
            ],
            "image/png": "[encoded data removed]"
          },
          "metadata": {}
        }
      ]
    },
    {
      "cell_type": "code",
      "source": [
        "titanic_df['Age'] = titanic_df['Age'].fillna(titanic_df['Age'].median())"
      ],
      "metadata": {
        "id": "-AJ9gVmNYmRx"
      },
      "execution_count": 27,
      "outputs": []
    },
    {
      "cell_type": "markdown",
      "source": [
        "##### Cabin"
      ],
      "metadata": {
        "id": "DBNa0_E3LJ2m"
      }
    },
    {
      "cell_type": "markdown",
      "source": [
        "- A maioria dos valores são nulos (687 de 891), não são numéricos e possuem muitos valores únicos.\n",
        "- Poderia ser feita uma tentativa de extrair informações relevantes dos dados que existem, visto que as strings consistem de uma letra seguida por um ou dois números, podemos deduzir que está relacionada a posição da cabine no navio, podendo então influenciar na sobrevivência de um passageiro. [[2]](https://www.kaggle.com/code/ccastleberry/titanic-cabin-features/notebook)\n",
        "- Entretanto, optaremos por **descartar a coluna** devido a quantidade de valores faltantes."
      ],
      "metadata": {
        "id": "0jLlhMg0OPpT"
      }
    },
    {
      "cell_type": "code",
      "source": [
        "titanic_df['Cabin'].value_counts()"
      ],
      "metadata": {
        "colab": {
          "base_uri": "https://localhost:8080/"
        },
        "id": "RY7T01VFCp3m",
        "outputId": "34213904-1f1b-461f-a431-93942d273770"
      },
      "execution_count": 28,
      "outputs": [
        {
          "output_type": "execute_result",
          "data": {
            "text/plain": [
              "B96 B98        4\n",
              "G6             4\n",
              "C23 C25 C27    4\n",
              "C22 C26        3\n",
              "F33            3\n",
              "              ..\n",
              "E34            1\n",
              "C7             1\n",
              "C54            1\n",
              "E36            1\n",
              "C148           1\n",
              "Name: Cabin, Length: 147, dtype: int64"
            ]
          },
          "metadata": {},
          "execution_count": 28
        }
      ]
    },
    {
      "cell_type": "code",
      "source": [
        "titanic_df = titanic_df.drop(columns=['Cabin'])"
      ],
      "metadata": {
        "id": "mZhlqNgWQoWf"
      },
      "execution_count": 29,
      "outputs": []
    },
    {
      "cell_type": "markdown",
      "source": [
        "##### Embarked"
      ],
      "metadata": {
        "id": "qr-6HdqePipN"
      }
    },
    {
      "cell_type": "markdown",
      "source": [
        "- Como se tratam de valores categóricos, os dois valores faltantes serão subsituídos pela moda."
      ],
      "metadata": {
        "id": "H1tb3x5NYwjm"
      }
    },
    {
      "cell_type": "code",
      "source": [
        "titanic_df['Embarked'].value_counts()"
      ],
      "metadata": {
        "colab": {
          "base_uri": "https://localhost:8080/"
        },
        "id": "DUtB_biEY2GB",
        "outputId": "4cc9fb3a-efe0-475f-f3a5-b2142f7f0190"
      },
      "execution_count": 30,
      "outputs": [
        {
          "output_type": "execute_result",
          "data": {
            "text/plain": [
              "S    644\n",
              "C    168\n",
              "Q     77\n",
              "Name: Embarked, dtype: int64"
            ]
          },
          "metadata": {},
          "execution_count": 30
        }
      ]
    },
    {
      "cell_type": "code",
      "source": [
        "titanic_df['Embarked'] = titanic_df['Embarked'].fillna(titanic_df['Embarked'].mode()[0])"
      ],
      "metadata": {
        "id": "5784i7LlZWna"
      },
      "execution_count": 31,
      "outputs": []
    },
    {
      "cell_type": "code",
      "source": [
        "titanic_df['Embarked'].value_counts()"
      ],
      "metadata": {
        "colab": {
          "base_uri": "https://localhost:8080/"
        },
        "id": "dSwt5VJaaflc",
        "outputId": "2c4f5f88-3743-402a-a724-c748f558c983"
      },
      "execution_count": 32,
      "outputs": [
        {
          "output_type": "execute_result",
          "data": {
            "text/plain": [
              "S    646\n",
              "C    168\n",
              "Q     77\n",
              "Name: Embarked, dtype: int64"
            ]
          },
          "metadata": {},
          "execution_count": 32
        }
      ]
    },
    {
      "cell_type": "markdown",
      "source": [
        "#### Colunas consideradas irrelevantes\n",
        "\n",
        "Algumas colunas possuem informações irrelevantes: identificadores que não apresentam relação direta com algo que possa definir a sobrevivência ou são valores aleatórios:\n",
        "- PassengerId\n",
        "- Ticket"
      ],
      "metadata": {
        "id": "WgfIP3YNP7z2"
      }
    },
    {
      "cell_type": "code",
      "source": [
        "titanic_df = titanic_df.drop(columns=['PassengerId'])\n",
        "titanic_df = titanic_df.drop(columns=['Ticket'])"
      ],
      "metadata": {
        "id": "9xhY22F6QfeD"
      },
      "execution_count": 33,
      "outputs": []
    },
    {
      "cell_type": "markdown",
      "source": [
        "#### Substituição dos valores categóricos por numéricos\n"
      ],
      "metadata": {
        "id": "oLqhfRIScD2u"
      }
    },
    {
      "cell_type": "markdown",
      "source": [
        "##### Name"
      ],
      "metadata": {
        "id": "8NS3TdQMfAsi"
      }
    },
    {
      "cell_type": "markdown",
      "source": [
        "- Essa coluna é composta apenas de valores únicos, mas todos os indivíduos possuem títulos (Mr., Mrs., Miss., etc).\n",
        "- É possível extrair a informação do título do passageiro e criar uma nova coluna."
      ],
      "metadata": {
        "id": "WW182XEEfEa0"
      }
    },
    {
      "cell_type": "code",
      "source": [
        "titanic_df['Name'].unique().size"
      ],
      "metadata": {
        "colab": {
          "base_uri": "https://localhost:8080/"
        },
        "id": "iJa2Mez2fJrK",
        "outputId": "8c5b3b3f-9922-40ad-af00-0ba1629d5709"
      },
      "execution_count": 34,
      "outputs": [
        {
          "output_type": "execute_result",
          "data": {
            "text/plain": [
              "891"
            ]
          },
          "metadata": {},
          "execution_count": 34
        }
      ]
    },
    {
      "cell_type": "code",
      "source": [
        "titles = titanic_df.Name.str.extract(' ([A-Za-z]+)\\.', expand=False)\n",
        "print(titles.size)\n",
        "titles.value_counts()"
      ],
      "metadata": {
        "colab": {
          "base_uri": "https://localhost:8080/"
        },
        "id": "eWJFveEfgrq9",
        "outputId": "df773ebd-a05f-4fed-d237-35ecf192ee5c"
      },
      "execution_count": 35,
      "outputs": [
        {
          "output_type": "stream",
          "name": "stdout",
          "text": [
            "891\n"
          ]
        },
        {
          "output_type": "execute_result",
          "data": {
            "text/plain": [
              "Mr          517\n",
              "Miss        182\n",
              "Mrs         125\n",
              "Master       40\n",
              "Dr            7\n",
              "Rev           6\n",
              "Mlle          2\n",
              "Major         2\n",
              "Col           2\n",
              "Countess      1\n",
              "Capt          1\n",
              "Ms            1\n",
              "Sir           1\n",
              "Lady          1\n",
              "Mme           1\n",
              "Don           1\n",
              "Jonkheer      1\n",
              "Name: Name, dtype: int64"
            ]
          },
          "metadata": {},
          "execution_count": 35
        }
      ]
    },
    {
      "cell_type": "markdown",
      "source": [
        "- Como Mr, Miss, Mrs e Master são os únicos títulos que se repetem mais de dez vezes, vamos optar por substituir o restante por 'Other'. E outros títulos que equivalem a esses títulos também serão subsituídos.\n",
        "- O seguinte mapeamento será feito:\n",
        "  - Mr = 0, Mrs = 1, Miss = 2, Master = 3, Other = 4"
      ],
      "metadata": {
        "id": "WNhXYX88mB7o"
      }
    },
    {
      "cell_type": "code",
      "source": [
        "titles = titles.replace(['Lady', 'Countess','Capt', 'Col', 'Don', 'Dr', 'Major', 'Rev', 'Sir', 'Jonkheer', 'Dona'], 'Other')\n",
        "titles = titles.replace('Mlle', 'Miss')\n",
        "titles = titles.replace('Ms', 'Miss')\n",
        "titles = titles.replace('Mme', 'Mrs')\n",
        "titles = titles.map({\"Mr\": 0, \"Mrs\": 1, \"Miss\": 2, \"Master\": 3, \"Other\": 4})\n",
        "titles.value_counts()"
      ],
      "metadata": {
        "colab": {
          "base_uri": "https://localhost:8080/"
        },
        "id": "wpwKlJRQmo8E",
        "outputId": "33d35c57-f224-46d5-ce7c-d6fc3074a317"
      },
      "execution_count": 36,
      "outputs": [
        {
          "output_type": "execute_result",
          "data": {
            "text/plain": [
              "0    517\n",
              "2    185\n",
              "1    126\n",
              "3     40\n",
              "4     23\n",
              "Name: Name, dtype: int64"
            ]
          },
          "metadata": {},
          "execution_count": 36
        }
      ]
    },
    {
      "cell_type": "code",
      "source": [
        "titanic_df = titanic_df.drop(columns=['Name'])"
      ],
      "metadata": {
        "id": "mH1pH_zpnB7M"
      },
      "execution_count": 37,
      "outputs": []
    },
    {
      "cell_type": "code",
      "source": [
        "titanic_df['Title'] = titles"
      ],
      "metadata": {
        "id": "9nBN27yznJhB"
      },
      "execution_count": 38,
      "outputs": []
    },
    {
      "cell_type": "markdown",
      "source": [
        "##### Outras colunas"
      ],
      "metadata": {
        "id": "1a2mSyWffC0D"
      }
    },
    {
      "cell_type": "code",
      "source": [
        "titanic_df['Sex'].unique()"
      ],
      "metadata": {
        "colab": {
          "base_uri": "https://localhost:8080/"
        },
        "id": "D_9_DWjtAqrd",
        "outputId": "16eacfd9-22f9-4847-8ea8-d9efbc85650d"
      },
      "execution_count": 39,
      "outputs": [
        {
          "output_type": "execute_result",
          "data": {
            "text/plain": [
              "array(['male', 'female'], dtype=object)"
            ]
          },
          "metadata": {},
          "execution_count": 39
        }
      ]
    },
    {
      "cell_type": "code",
      "source": [
        "titanic_df['Embarked'].unique()"
      ],
      "metadata": {
        "colab": {
          "base_uri": "https://localhost:8080/"
        },
        "id": "AyGq5NqdBOdo",
        "outputId": "f6e61189-5e6c-456f-9ac6-325cc4f8c2be"
      },
      "execution_count": 40,
      "outputs": [
        {
          "output_type": "execute_result",
          "data": {
            "text/plain": [
              "array(['S', 'C', 'Q'], dtype=object)"
            ]
          },
          "metadata": {},
          "execution_count": 40
        }
      ]
    },
    {
      "cell_type": "markdown",
      "source": [
        "Antes de treinar o modelo, é necessário converter algumas colunas de uma string para um valor numérico.\n",
        "- Sex (male = 0, female = 1)\n",
        "- Embarked (S = 0, C = 1, Q = 2)\n",
        "\n"
      ],
      "metadata": {
        "id": "r9nPYrV8UBNj"
      }
    },
    {
      "cell_type": "code",
      "source": [
        "titanic_df['Sex'] = titanic_df['Sex'].map({'male': 0, 'female': 1})"
      ],
      "metadata": {
        "id": "vYMeLTw3WNli"
      },
      "execution_count": 41,
      "outputs": []
    },
    {
      "cell_type": "code",
      "source": [
        "titanic_df['Embarked'] = titanic_df['Embarked'].map({'S': 0, 'C': 1, 'Q': 2})"
      ],
      "metadata": {
        "id": "PbCE2onu_E2G"
      },
      "execution_count": 42,
      "outputs": []
    },
    {
      "cell_type": "markdown",
      "source": [
        "#### Combinar colunas"
      ],
      "metadata": {
        "id": "6QD-1VCpsiqF"
      }
    },
    {
      "cell_type": "markdown",
      "source": [
        "- Podemos combinar as colunas Sibsp e Parch para ter uma coluna representando o tamanho da família.\n",
        "- Fizemos alguns testes combinando as colunas e não houve melhoria significativa nos scores."
      ],
      "metadata": {
        "id": "3j_QTs6ysl4W"
      }
    },
    {
      "cell_type": "code",
      "source": [
        "#family = titanic_df['SibSp'] + titanic_df['Parch']\n",
        "#titanic_df['Family'] = family"
      ],
      "metadata": {
        "id": "AQOBO9XBslYw"
      },
      "execution_count": 43,
      "outputs": []
    },
    {
      "cell_type": "code",
      "source": [
        "#titanic_df = titanic_df.drop(columns=['SibSp', 'Parch'])"
      ],
      "metadata": {
        "id": "XnRoFh7kzkZm"
      },
      "execution_count": 44,
      "outputs": []
    },
    {
      "cell_type": "markdown",
      "source": [
        "#### Dataset após limpeza\n",
        "\n"
      ],
      "metadata": {
        "id": "4A3ZxsU-olhk"
      }
    },
    {
      "cell_type": "code",
      "source": [
        "titanic_df.info()"
      ],
      "metadata": {
        "colab": {
          "base_uri": "https://localhost:8080/"
        },
        "id": "isNlHh-6opbR",
        "outputId": "b7b8060a-c306-4598-97bc-d0538146b3db"
      },
      "execution_count": 161,
      "outputs": [
        {
          "output_type": "stream",
          "name": "stdout",
          "text": [
            "<class 'pandas.core.frame.DataFrame'>\n",
            "RangeIndex: 891 entries, 0 to 890\n",
            "Data columns (total 9 columns):\n",
            " #   Column    Non-Null Count  Dtype  \n",
            "---  ------    --------------  -----  \n",
            " 0   Survived  891 non-null    int64  \n",
            " 1   Pclass    891 non-null    int64  \n",
            " 2   Sex       891 non-null    int64  \n",
            " 3   Age       891 non-null    float64\n",
            " 4   SibSp     891 non-null    int64  \n",
            " 5   Parch     891 non-null    int64  \n",
            " 6   Fare      891 non-null    float64\n",
            " 7   Embarked  891 non-null    int64  \n",
            " 8   Title     891 non-null    int64  \n",
            "dtypes: float64(2), int64(7)\n",
            "memory usage: 62.8 KB\n"
          ]
        }
      ]
    },
    {
      "cell_type": "markdown",
      "source": [
        "### 🛠️ Criando modelo"
      ],
      "metadata": {
        "id": "V3cLpj2VO9hj"
      }
    },
    {
      "cell_type": "code",
      "source": [
        "titanic_x = titanic_df.drop(columns=['Survived'])\n",
        "titanic_y = titanic_df['Survived']\n",
        "\n",
        "titanic_x_train, titanic_x_test, titanic_y_train, titanic_y_test = train_test_split(titanic_x, titanic_y, test_size = 0.2)"
      ],
      "metadata": {
        "id": "X-G3EGIWA3v0"
      },
      "execution_count": 47,
      "outputs": []
    },
    {
      "cell_type": "markdown",
      "source": [
        "#### **1. Classificador com parâmetros default**"
      ],
      "metadata": {
        "id": "9CzxsmJTrzAZ"
      }
    },
    {
      "cell_type": "code",
      "source": [
        "classifier1 = DecisionTreeClassifier()  \n",
        "classifier1.fit(titanic_x_train, titanic_y_train)"
      ],
      "metadata": {
        "id": "a3hPPp5LOsju"
      },
      "execution_count": null,
      "outputs": []
    },
    {
      "cell_type": "code",
      "source": [
        "plot_tree(classifier1, feature_names=titanic_df.drop(columns=['Survived']).columns)\n",
        "plt.show()"
      ],
      "metadata": {
        "colab": {
          "base_uri": "https://localhost:8080/",
          "height": 406
        },
        "id": "E4CjwDnzr9pW",
        "outputId": "6b3768f8-de23-44a1-e3f4-dd07b8a8231b"
      },
      "execution_count": 112,
      "outputs": [
        {
          "output_type": "display_data",
          "data": {
            "text/plain": [
              "<Figure size 640x480 with 1 Axes>"
            ],
            "image/png": "[encoded data removed]"
          },
          "metadata": {}
        }
      ]
    },
    {
      "cell_type": "code",
      "source": [
        "titanic_y_pred = classifier1.predict(titanic_x_test)\n",
        "titanic_report = classification_report(titanic_y_test, titanic_y_pred)\n",
        "print(titanic_report)"
      ],
      "metadata": {
        "id": "6DZ-yQXKrdh7",
        "colab": {
          "base_uri": "https://localhost:8080/"
        },
        "outputId": "f871e943-5153-413e-ab63-3f41e773fd70"
      },
      "execution_count": 183,
      "outputs": [
        {
          "output_type": "stream",
          "name": "stdout",
          "text": [
            "              precision    recall  f1-score   support\n",
            "\n",
            "           0       0.79      0.85      0.82       105\n",
            "           1       0.76      0.68      0.71        74\n",
            "\n",
            "    accuracy                           0.78       179\n",
            "   macro avg       0.77      0.76      0.77       179\n",
            "weighted avg       0.78      0.78      0.77       179\n",
            "\n"
          ]
        }
      ]
    },
    {
      "cell_type": "markdown",
      "source": [
        "#### **2. Utilizando GridSearchCV**\n",
        "\n"
      ],
      "metadata": {
        "id": "bh6Rv1xL13cq"
      }
    },
    {
      "cell_type": "code",
      "source": [
        "parameters1 = {\n",
        "    'criterion': [\"gini\", \"entropy\", \"log_loss\"],\n",
        "    'splitter': [\"best\", \"random\"],\n",
        "    'max_depth': [3, 10, 30, None],\n",
        "    'max_features': [\"sqrt\", \"log2\", None],\n",
        "    'min_samples_split': [2, 16, 32],\n",
        "    'max_leaf_nodes': [5, 10, 40, None],\n",
        "    'random_state': [13]\n",
        "}"
      ],
      "metadata": {
        "id": "g_OG6gcO17b4"
      },
      "execution_count": 117,
      "outputs": []
    },
    {
      "cell_type": "code",
      "source": [
        "grid = GridSearchCV(estimator = DecisionTreeClassifier(), param_grid = parameters1)\n",
        "grid.fit(titanic_x_train, titanic_y_train)"
      ],
      "metadata": {
        "id": "ZWoIwzbYqYkp"
      },
      "execution_count": null,
      "outputs": []
    },
    {
      "cell_type": "code",
      "source": [
        "print(grid.best_score_)\n",
        "print(grid.best_params_)"
      ],
      "metadata": {
        "colab": {
          "base_uri": "https://localhost:8080/"
        },
        "id": "2M-duG8KrG9K",
        "outputId": "dda7f351-44d0-4984-aaa0-2905a66c93bd"
      },
      "execution_count": 119,
      "outputs": [
        {
          "output_type": "stream",
          "name": "stdout",
          "text": [
            "0.8385403329065302\n",
            "{'criterion': 'entropy', 'max_depth': 30, 'max_features': None, 'max_leaf_nodes': 40, 'min_samples_split': 2, 'random_state': 13, 'splitter': 'random'}\n"
          ]
        }
      ]
    },
    {
      "cell_type": "code",
      "source": [
        "classifier2 = DecisionTreeClassifier(criterion=grid.best_params_['criterion'],\n",
        "                                    max_depth=grid.best_params_['max_depth'],\n",
        "                                    max_features=grid.best_params_['max_features'],\n",
        "                                    max_leaf_nodes=grid.best_params_['max_leaf_nodes'],\n",
        "                                    min_samples_split=grid.best_params_['min_samples_split'],\n",
        "                                    random_state=grid.best_params_['random_state'],\n",
        "                                    splitter=grid.best_params_['splitter'])\n",
        "classifier2.fit(titanic_x_train, titanic_y_train)"
      ],
      "metadata": {
        "id": "ZMqNEz86v3Bo"
      },
      "execution_count": null,
      "outputs": []
    },
    {
      "cell_type": "code",
      "source": [
        "plot_tree(classifier2, feature_names=titanic_df.drop(columns=['Survived']).columns)\n",
        "plt.show()"
      ],
      "metadata": {
        "colab": {
          "base_uri": "https://localhost:8080/",
          "height": 406
        },
        "id": "mTN_ZlxIwIHq",
        "outputId": "8377119e-2fc0-41d9-fce2-9b9535fe8a67"
      },
      "execution_count": 121,
      "outputs": [
        {
          "output_type": "display_data",
          "data": {
            "text/plain": [
              "<Figure size 640x480 with 1 Axes>"
            ],
            "image/png": "[encoded data removed]"
          },
          "metadata": {}
        }
      ]
    },
    {
      "cell_type": "code",
      "source": [
        "titanic_y_pred = classifier2.predict(titanic_x_test)\n",
        "titanic_report = classification_report(titanic_y_test, titanic_y_pred)\n",
        "print(titanic_report)"
      ],
      "metadata": {
        "colab": {
          "base_uri": "https://localhost:8080/"
        },
        "id": "k-vZM-yYwaWo",
        "outputId": "628ce974-b915-48cc-dc20-85aa1d2ae006"
      },
      "execution_count": 182,
      "outputs": [
        {
          "output_type": "stream",
          "name": "stdout",
          "text": [
            "              precision    recall  f1-score   support\n",
            "\n",
            "           0       0.82      0.90      0.85       105\n",
            "           1       0.83      0.72      0.77        74\n",
            "\n",
            "    accuracy                           0.82       179\n",
            "   macro avg       0.82      0.81      0.81       179\n",
            "weighted avg       0.82      0.82      0.82       179\n",
            "\n"
          ]
        }
      ]
    },
    {
      "cell_type": "markdown",
      "source": [
        "#### **3. Tentando obter uma árvore menor com score similar**"
      ],
      "metadata": {
        "id": "MQNJTskpwQd3"
      }
    },
    {
      "cell_type": "code",
      "source": [
        "parameters2 = {\n",
        "    'criterion': [\"gini\", \"entropy\", \"log_loss\"],\n",
        "    'splitter': [\"best\", \"random\"],\n",
        "    'max_depth': [2, 4, 6],\n",
        "    'max_features': [\"sqrt\", \"log2\", None],\n",
        "    'min_samples_split': [2, 4, 8],\n",
        "    'max_leaf_nodes': [4, 7, 10],\n",
        "    'random_state': [13]\n",
        "}"
      ],
      "metadata": {
        "id": "Z89SBaacyup6"
      },
      "execution_count": 124,
      "outputs": []
    },
    {
      "cell_type": "code",
      "source": [
        "grid2 = GridSearchCV(estimator = DecisionTreeClassifier(), param_grid = parameters2)\n",
        "grid2.fit(titanic_x_train, titanic_y_train)"
      ],
      "metadata": {
        "id": "glpdPv5ZzIGj"
      },
      "execution_count": null,
      "outputs": []
    },
    {
      "cell_type": "code",
      "source": [
        "print(grid2.best_score_)\n",
        "print(grid2.best_params_)"
      ],
      "metadata": {
        "colab": {
          "base_uri": "https://localhost:8080/"
        },
        "id": "LOGbU1qPzO1u",
        "outputId": "ef9db675-2e61-461a-ce89-37f907e6daef"
      },
      "execution_count": 126,
      "outputs": [
        {
          "output_type": "stream",
          "name": "stdout",
          "text": [
            "0.8357234314980794\n",
            "{'criterion': 'gini', 'max_depth': 6, 'max_features': None, 'max_leaf_nodes': 10, 'min_samples_split': 2, 'random_state': 13, 'splitter': 'random'}\n"
          ]
        }
      ]
    },
    {
      "cell_type": "code",
      "source": [
        "classifier3 = DecisionTreeClassifier(criterion=grid2.best_params_['criterion'],\n",
        "                                    max_depth=grid2.best_params_['max_depth'],\n",
        "                                    max_features=grid2.best_params_['max_features'],\n",
        "                                    max_leaf_nodes=grid2.best_params_['max_leaf_nodes'],\n",
        "                                    min_samples_split=grid2.best_params_['min_samples_split'],\n",
        "                                    random_state=grid2.best_params_['random_state'],\n",
        "                                    splitter=grid2.best_params_['splitter'])\n",
        "classifier3.fit(titanic_x_train, titanic_y_train)"
      ],
      "metadata": {
        "id": "j7Ex4nj30Ggk"
      },
      "execution_count": null,
      "outputs": []
    },
    {
      "cell_type": "code",
      "source": [
        "plot_tree(classifier3, feature_names=titanic_df.drop(columns=['Survived']).columns)\n",
        "plt.show()"
      ],
      "metadata": {
        "colab": {
          "base_uri": "https://localhost:8080/",
          "height": 406
        },
        "id": "wzvHbRmN0NNR",
        "outputId": "ee0b9cd7-88f6-41be-a02a-588f238ba407"
      },
      "execution_count": 128,
      "outputs": [
        {
          "output_type": "display_data",
          "data": {
            "text/plain": [
              "<Figure size 640x480 with 1 Axes>"
            ],
            "image/png": "[encoded data removed]"
          },
          "metadata": {}
        }
      ]
    },
    {
      "cell_type": "code",
      "source": [
        "titanic_y_pred = classifier3.predict(titanic_x_test)\n",
        "titanic_report = classification_report(titanic_y_test, titanic_y_pred)\n",
        "print(titanic_report)"
      ],
      "metadata": {
        "colab": {
          "base_uri": "https://localhost:8080/"
        },
        "id": "bxVUA0iyyopX",
        "outputId": "c79fe09a-2b93-42ca-9e72-ff1e195f7be1"
      },
      "execution_count": 181,
      "outputs": [
        {
          "output_type": "stream",
          "name": "stdout",
          "text": [
            "              precision    recall  f1-score   support\n",
            "\n",
            "           0       0.80      0.94      0.87       105\n",
            "           1       0.89      0.68      0.77        74\n",
            "\n",
            "    accuracy                           0.83       179\n",
            "   macro avg       0.85      0.81      0.82       179\n",
            "weighted avg       0.84      0.83      0.83       179\n",
            "\n"
          ]
        }
      ]
    },
    {
      "cell_type": "markdown",
      "source": [
        "## 🎲 **Utilizando Random Forests**\n",
        "\n",
        "Aplicando o RandomForestClassifier com a configuração default no problema Titanic."
      ],
      "metadata": {
        "id": "gZTwPPADBcAM"
      }
    },
    {
      "cell_type": "code",
      "source": [
        "parameters3 = {\n",
        "    'criterion': [\"gini\", \"entropy\", \"log_loss\"],\n",
        "    'n_estimators': [10, 50, 100], # Novo\n",
        "    'max_depth': [2, 4, 6],\n",
        "    'max_features': [\"sqrt\", \"log2\", None],\n",
        "    'min_samples_split': [2, 4, 8],\n",
        "    'max_leaf_nodes': [4, 7, 10],\n",
        "    'random_state': [13]\n",
        "}"
      ],
      "metadata": {
        "id": "PUeBhO6VIQGc"
      },
      "execution_count": 131,
      "outputs": []
    },
    {
      "cell_type": "code",
      "source": [
        "grid3 = GridSearchCV(estimator = RandomForestClassifier(), param_grid = parameters3)\n",
        "grid3.fit(titanic_x_train, titanic_y_train)"
      ],
      "metadata": {
        "id": "j8cul5e9IrwR"
      },
      "execution_count": null,
      "outputs": []
    },
    {
      "cell_type": "code",
      "source": [
        "print(grid3.best_score_)\n",
        "print(grid3.best_params_)"
      ],
      "metadata": {
        "colab": {
          "base_uri": "https://localhost:8080/"
        },
        "id": "ULcASkpCIzyj",
        "outputId": "c6e935da-1a66-4864-ead1-08be86c9270d"
      },
      "execution_count": 133,
      "outputs": [
        {
          "output_type": "stream",
          "name": "stdout",
          "text": [
            "0.8413473850093569\n",
            "{'criterion': 'gini', 'max_depth': 6, 'max_features': 'sqrt', 'max_leaf_nodes': 10, 'min_samples_split': 4, 'n_estimators': 10, 'random_state': 13}\n"
          ]
        }
      ]
    },
    {
      "cell_type": "code",
      "source": [
        "classifier4 = RandomForestClassifier(criterion=grid3.best_params_['criterion'],\n",
        "                                    max_depth=grid3.best_params_['max_depth'],\n",
        "                                    max_features=grid3.best_params_['max_features'],\n",
        "                                    max_leaf_nodes=grid3.best_params_['max_leaf_nodes'],\n",
        "                                    min_samples_split=grid3.best_params_['min_samples_split'],\n",
        "                                    random_state=grid3.best_params_['random_state'],\n",
        "                                    n_estimators=grid3.best_params_['n_estimators'])\n",
        "classifier4.fit(titanic_x_train, titanic_y_train)"
      ],
      "metadata": {
        "id": "-fP-WizpI26T"
      },
      "execution_count": null,
      "outputs": []
    },
    {
      "cell_type": "code",
      "source": [
        "titanic_y_pred = classifier4.predict(titanic_x_test)\n",
        "titanic_report = classification_report(titanic_y_test, titanic_y_pred)\n",
        "print(titanic_report)"
      ],
      "metadata": {
        "colab": {
          "base_uri": "https://localhost:8080/"
        },
        "id": "UgeZhNzN38n3",
        "outputId": "6ac920ac-7cdd-4ed8-acbf-dc156295bb97"
      },
      "execution_count": 184,
      "outputs": [
        {
          "output_type": "stream",
          "name": "stdout",
          "text": [
            "              precision    recall  f1-score   support\n",
            "\n",
            "           0       0.82      0.92      0.87       105\n",
            "           1       0.87      0.72      0.79        74\n",
            "\n",
            "    accuracy                           0.84       179\n",
            "   macro avg       0.85      0.82      0.83       179\n",
            "weighted avg       0.84      0.84      0.83       179\n",
            "\n"
          ]
        }
      ]
    },
    {
      "cell_type": "markdown",
      "source": [
        "## ⛑️ **Utilizando AD no problema de Detecção de Lombalgia**"
      ],
      "metadata": {
        "id": "dAWgT7VeBe7k"
      }
    },
    {
      "cell_type": "code",
      "source": [
        "pain_x = pain_df.drop(columns=['Class_att'])\n",
        "pain_y = pain_df['Class_att']\n",
        "\n",
        "pain_x_train, pain_x_test, pain_y_train, pain_y_test = train_test_split(pain_x, pain_y, test_size = 0.3)"
      ],
      "metadata": {
        "id": "vSs3U5neBktG"
      },
      "execution_count": 142,
      "outputs": []
    },
    {
      "cell_type": "code",
      "source": [
        "classifier5 = DecisionTreeClassifier(criterion=grid2.best_params_['criterion'],\n",
        "                                    max_depth=grid2.best_params_['max_depth'],\n",
        "                                    max_features=grid2.best_params_['max_features'],\n",
        "                                    max_leaf_nodes=grid2.best_params_['max_leaf_nodes'],\n",
        "                                    min_samples_split=grid2.best_params_['min_samples_split'],\n",
        "                                    random_state=grid2.best_params_['random_state'],\n",
        "                                    splitter=grid2.best_params_['splitter'])  \n",
        "classifier5.fit(pain_x_train, pain_y_train)"
      ],
      "metadata": {
        "id": "neXc0K5v7vh4"
      },
      "execution_count": null,
      "outputs": []
    },
    {
      "cell_type": "code",
      "source": [
        "plot_tree(classifier5, feature_names=pain_df.drop(columns=['Class_att']).columns)\n",
        "plt.show()"
      ],
      "metadata": {
        "colab": {
          "base_uri": "https://localhost:8080/",
          "height": 406
        },
        "id": "jd3JsDUe7yzu",
        "outputId": "9ba881c5-aad3-45ea-b290-324b20b2e562"
      },
      "execution_count": 158,
      "outputs": [
        {
          "output_type": "display_data",
          "data": {
            "text/plain": [
              "<Figure size 640x480 with 1 Axes>"
            ],
            "image/png": "[encoded data removed]"
          },
          "metadata": {}
        }
      ]
    },
    {
      "cell_type": "code",
      "source": [
        "pain_y_pred = classifier5.predict(pain_x_test)\n",
        "pain_report = classification_report(pain_y_test, pain_y_pred)\n",
        "print(pain_report)"
      ],
      "metadata": {
        "colab": {
          "base_uri": "https://localhost:8080/"
        },
        "id": "7oYwXt3f74V3",
        "outputId": "218ef969-d063-40ef-b185-2aac40cd980d"
      },
      "execution_count": 198,
      "outputs": [
        {
          "output_type": "stream",
          "name": "stdout",
          "text": [
            "              precision    recall  f1-score   support\n",
            "\n",
            "    Abnormal       0.81      0.92      0.86        61\n",
            "      Normal       0.79      0.59      0.68        32\n",
            "\n",
            "    accuracy                           0.81        93\n",
            "   macro avg       0.80      0.76      0.77        93\n",
            "weighted avg       0.80      0.81      0.80        93\n",
            "\n"
          ]
        }
      ]
    },
    {
      "cell_type": "markdown",
      "source": [
        "## ✏️ **Conclusão**"
      ],
      "metadata": {
        "id": "aV8ndojLBovz"
      }
    },
    {
      "cell_type": "markdown",
      "source": [
        "### **Titanic**"
      ],
      "metadata": {
        "id": "Ol7mfVQFA_dx"
      }
    },
    {
      "cell_type": "markdown",
      "source": [
        "- Configuração padrão teve os menores scores e houve overfitting."
      ],
      "metadata": {
        "id": "51qdroSuQvYN"
      }
    },
    {
      "cell_type": "code",
      "source": [
        "predict_and_report(\"AD - Configuração padrão\", classifier1, titanic_x_test, titanic_y_test, titanic_y_train, titanic_x_train)"
      ],
      "metadata": {
        "colab": {
          "base_uri": "https://localhost:8080/",
          "height": 605
        },
        "id": "5_z6LuwcPdbx",
        "outputId": "bfd3e03a-ca7a-4833-a654-101ab0b1e5b1"
      },
      "execution_count": 192,
      "outputs": [
        {
          "output_type": "stream",
          "name": "stdout",
          "text": [
            "AD - Configuração padrão- base de teste\n",
            "              precision    recall  f1-score   support\n",
            "\n",
            "           0       0.79      0.85      0.82       105\n",
            "           1       0.76      0.68      0.71        74\n",
            "\n",
            "    accuracy                           0.78       179\n",
            "   macro avg       0.77      0.76      0.77       179\n",
            "weighted avg       0.78      0.78      0.77       179\n",
            "\n",
            "------------------------------------------------------\n",
            "AD - Configuração padrão- base de treino\n",
            "              precision    recall  f1-score   support\n",
            "\n",
            "           0       0.98      1.00      0.99       444\n",
            "           1       0.99      0.96      0.98       268\n",
            "\n",
            "    accuracy                           0.98       712\n",
            "   macro avg       0.98      0.98      0.98       712\n",
            "weighted avg       0.98      0.98      0.98       712\n",
            "\n"
          ]
        },
        {
          "output_type": "display_data",
          "data": {
            "text/plain": [
              "<Figure size 200x200 with 2 Axes>"
            ],
            "image/png": "[encoded data removed]"
          },
          "metadata": {}
        }
      ]
    },
    {
      "cell_type": "markdown",
      "source": [
        "- Configuração 1 teve melhoria nos scores."
      ],
      "metadata": {
        "id": "yqKwIEGJQ1vT"
      }
    },
    {
      "cell_type": "code",
      "source": [
        "print(grid.best_params_)"
      ],
      "metadata": {
        "colab": {
          "base_uri": "https://localhost:8080/"
        },
        "id": "TqwojH7ySV3h",
        "outputId": "fe3a9d34-f986-4bd8-a8b3-93fb7752c20b"
      },
      "execution_count": 189,
      "outputs": [
        {
          "output_type": "stream",
          "name": "stdout",
          "text": [
            "{'criterion': 'entropy', 'max_depth': 30, 'max_features': None, 'max_leaf_nodes': 40, 'min_samples_split': 2, 'random_state': 13, 'splitter': 'random'}\n"
          ]
        }
      ]
    },
    {
      "cell_type": "code",
      "source": [
        "predict_and_report(\"AD - Configuração 1\", classifier2, titanic_x_test, titanic_y_test, titanic_y_train, titanic_x_train)"
      ],
      "metadata": {
        "colab": {
          "base_uri": "https://localhost:8080/",
          "height": 605
        },
        "id": "runcKsefQC-Y",
        "outputId": "7fcf08a8-7bed-4d02-f5c1-eb7d29a26897"
      },
      "execution_count": 193,
      "outputs": [
        {
          "output_type": "stream",
          "name": "stdout",
          "text": [
            "AD - Configuração 1- base de teste\n",
            "              precision    recall  f1-score   support\n",
            "\n",
            "           0       0.82      0.90      0.85       105\n",
            "           1       0.83      0.72      0.77        74\n",
            "\n",
            "    accuracy                           0.82       179\n",
            "   macro avg       0.82      0.81      0.81       179\n",
            "weighted avg       0.82      0.82      0.82       179\n",
            "\n",
            "------------------------------------------------------\n",
            "AD - Configuração 1- base de treino\n",
            "              precision    recall  f1-score   support\n",
            "\n",
            "           0       0.88      0.93      0.90       444\n",
            "           1       0.87      0.78      0.83       268\n",
            "\n",
            "    accuracy                           0.88       712\n",
            "   macro avg       0.87      0.86      0.86       712\n",
            "weighted avg       0.87      0.88      0.87       712\n",
            "\n"
          ]
        },
        {
          "output_type": "display_data",
          "data": {
            "text/plain": [
              "<Figure size 200x200 with 2 Axes>"
            ],
            "image/png": "[encoded data removed]"
          },
          "metadata": {}
        }
      ]
    },
    {
      "cell_type": "markdown",
      "source": [
        "- Configuração 2 teve scores similares (mas é uma árvore consideravelmente menor)"
      ],
      "metadata": {
        "id": "tmccX-swQ6Pj"
      }
    },
    {
      "cell_type": "code",
      "source": [
        "print(grid2.best_params_)"
      ],
      "metadata": {
        "colab": {
          "base_uri": "https://localhost:8080/"
        },
        "id": "Xfkgz9xJSX4-",
        "outputId": "8e28801b-145e-45a0-bc32-1850ff0a4b35"
      },
      "execution_count": 188,
      "outputs": [
        {
          "output_type": "stream",
          "name": "stdout",
          "text": [
            "{'criterion': 'gini', 'max_depth': 6, 'max_features': None, 'max_leaf_nodes': 10, 'min_samples_split': 2, 'random_state': 13, 'splitter': 'random'}\n"
          ]
        }
      ]
    },
    {
      "cell_type": "code",
      "source": [
        "predict_and_report(\"AD - Configuração 2\", classifier3, titanic_x_test, titanic_y_test, titanic_y_train, titanic_x_train)"
      ],
      "metadata": {
        "colab": {
          "base_uri": "https://localhost:8080/",
          "height": 605
        },
        "id": "1qQ57qEKQUR2",
        "outputId": "cef5a125-aafb-4429-933e-dc1b885eae8c"
      },
      "execution_count": 194,
      "outputs": [
        {
          "output_type": "stream",
          "name": "stdout",
          "text": [
            "AD - Configuração 2- base de teste\n",
            "              precision    recall  f1-score   support\n",
            "\n",
            "           0       0.80      0.94      0.87       105\n",
            "           1       0.89      0.68      0.77        74\n",
            "\n",
            "    accuracy                           0.83       179\n",
            "   macro avg       0.85      0.81      0.82       179\n",
            "weighted avg       0.84      0.83      0.83       179\n",
            "\n",
            "------------------------------------------------------\n",
            "AD - Configuração 2- base de treino\n",
            "              precision    recall  f1-score   support\n",
            "\n",
            "           0       0.82      0.95      0.88       444\n",
            "           1       0.90      0.65      0.75       268\n",
            "\n",
            "    accuracy                           0.84       712\n",
            "   macro avg       0.86      0.80      0.82       712\n",
            "weighted avg       0.85      0.84      0.83       712\n",
            "\n"
          ]
        },
        {
          "output_type": "display_data",
          "data": {
            "text/plain": [
              "<Figure size 200x200 with 2 Axes>"
            ],
            "image/png": "[encoded data removed]"
          },
          "metadata": {}
        }
      ]
    },
    {
      "cell_type": "markdown",
      "source": [
        "- RF apresentou scores similares."
      ],
      "metadata": {
        "id": "Cc7y5zB-RAJZ"
      }
    },
    {
      "cell_type": "code",
      "source": [
        "predict_and_report(\"RF - Configuração 1\", classifier4, titanic_x_test, titanic_y_test, titanic_y_train, titanic_x_train)"
      ],
      "metadata": {
        "colab": {
          "base_uri": "https://localhost:8080/",
          "height": 605
        },
        "id": "kNGrUQZdQaqM",
        "outputId": "b6529b43-f00b-4d89-a251-caa9b8f918de"
      },
      "execution_count": 195,
      "outputs": [
        {
          "output_type": "stream",
          "name": "stdout",
          "text": [
            "RF - Configuração 1- base de teste\n",
            "              precision    recall  f1-score   support\n",
            "\n",
            "           0       0.82      0.92      0.87       105\n",
            "           1       0.87      0.72      0.79        74\n",
            "\n",
            "    accuracy                           0.84       179\n",
            "   macro avg       0.85      0.82      0.83       179\n",
            "weighted avg       0.84      0.84      0.83       179\n",
            "\n",
            "------------------------------------------------------\n",
            "RF - Configuração 1- base de treino\n",
            "              precision    recall  f1-score   support\n",
            "\n",
            "           0       0.84      0.93      0.88       444\n",
            "           1       0.86      0.71      0.78       268\n",
            "\n",
            "    accuracy                           0.85       712\n",
            "   macro avg       0.85      0.82      0.83       712\n",
            "weighted avg       0.85      0.85      0.84       712\n",
            "\n"
          ]
        },
        {
          "output_type": "display_data",
          "data": {
            "text/plain": [
              "<Figure size 200x200 with 2 Axes>"
            ],
            "image/png": "[encoded data removed]"
          },
          "metadata": {}
        }
      ]
    },
    {
      "cell_type": "markdown",
      "source": [
        "### **Detecção de Lombalgia**"
      ],
      "metadata": {
        "id": "q_-jJ_FLBAfM"
      }
    },
    {
      "cell_type": "code",
      "source": [
        "predict_and_report(\"AD - Configuração 1\", classifier5, pain_x_test, pain_y_test, pain_y_train, pain_x_train)"
      ],
      "metadata": {
        "colab": {
          "base_uri": "https://localhost:8080/",
          "height": 605
        },
        "id": "EleDYzFgR0aC",
        "outputId": "0cef8740-041f-495e-e3fd-7b4b317877c8"
      },
      "execution_count": 197,
      "outputs": [
        {
          "output_type": "stream",
          "name": "stdout",
          "text": [
            "AD - Configuração 1- base de teste\n",
            "              precision    recall  f1-score   support\n",
            "\n",
            "    Abnormal       0.81      0.92      0.86        61\n",
            "      Normal       0.79      0.59      0.68        32\n",
            "\n",
            "    accuracy                           0.81        93\n",
            "   macro avg       0.80      0.76      0.77        93\n",
            "weighted avg       0.80      0.81      0.80        93\n",
            "\n",
            "------------------------------------------------------\n",
            "AD - Configuração 1- base de treino\n",
            "              precision    recall  f1-score   support\n",
            "\n",
            "    Abnormal       0.90      0.95      0.93       149\n",
            "      Normal       0.88      0.78      0.83        68\n",
            "\n",
            "    accuracy                           0.90       217\n",
            "   macro avg       0.89      0.87      0.88       217\n",
            "weighted avg       0.90      0.90      0.90       217\n",
            "\n"
          ]
        },
        {
          "output_type": "display_data",
          "data": {
            "text/plain": [
              "<Figure size 200x200 with 2 Axes>"
            ],
            "image/png": "[encoded data removed]"
          },
          "metadata": {}
        }
      ]
    },
    {
      "cell_type": "markdown",
      "source": [
        "- Acurácia com MLP: 0.82\n",
        "- Acurácia com AD (configuração 2): 0.81\n",
        "- Testando outras configurações considerando esse dataset poderíamos obter resultados melhores."
      ],
      "metadata": {
        "id": "_S6xfpy6DBCW"
      }
    }
  ]
}