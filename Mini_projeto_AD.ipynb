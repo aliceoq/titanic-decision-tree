{
  "nbformat": 4,
  "nbformat_minor": 0,
  "metadata": {
    "colab": {
      "provenance": []
    },
    "kernelspec": {
      "name": "python3",
      "display_name": "Python 3"
    },
    "language_info": {
      "name": "python"
    }
  },
  "cells": [
    {
      "cell_type": "markdown",
      "source": [
        "# 🔗 Links úteis (deletar depois)\n",
        "- https://vitalflux.com/pandas-impute-missing-values-mean-median-mode/#How_to_decide_which_imputation_technique_to_use\n",
        "- https://towardsdatascience.com/machine-learning-with-the-titanic-dataset-7f6909e58280\n",
        "- https://www.kaggle.com/code/startupsci/titanic-data-science-solutions/notebook\n",
        "- https://www.kaggle.com/competitions/titanic/discussion/395092"
      ],
      "metadata": {
        "id": "Vxg-fwzsu4m0"
      }
    },
    {
      "cell_type": "markdown",
      "source": [
        "# **Ávore de Decisão**\n",
        "**Mini-projeto 2 - Sistemas Inteligentes**\n",
        "\n",
        "Prof. Germano Crispim Vasconcelos\n",
        "\n",
        "Equipe 6\n",
        "- Alice Oliveira - aoqb\n",
        "- Ana Albuquerque - alas3\n",
        "- Enrique Laborão - elm2\n",
        "- Victória Luisi - vlsc\n",
        "- Olivia Tavares - obtmc"
      ],
      "metadata": {
        "id": "vOZ9pQzvA35C"
      }
    },
    {
      "cell_type": "markdown",
      "source": [
        "## ⚙️ **Setup**\n",
        "\n",
        "Importando dependências, conectando Google Drive, lendo datasets e criando os respectivos dataframes."
      ],
      "metadata": {
        "id": "LwwHyFyZCDZ1"
      }
    },
    {
      "cell_type": "markdown",
      "source": [
        "### Dependências"
      ],
      "metadata": {
        "id": "M4XT12rQiv5Q"
      }
    },
    {
      "cell_type": "code",
      "source": [
        "import numpy as np\n",
        "import pandas as pd\n",
        "\n",
        "import matplotlib.pyplot as plt\n",
        "import seaborn as sns\n",
        "\n",
        "from sklearn.tree import DecisionTreeClassifier, plot_tree\n",
        "from sklearn.model_selection import train_test_split\n",
        "from sklearn.metrics import classification_report, accuracy_score, precision_score, recall_score, f1_score, roc_auc_score, confusion_matrix"
      ],
      "metadata": {
        "id": "rcXBH8MBDDU9"
      },
      "execution_count": 1,
      "outputs": []
    },
    {
      "cell_type": "markdown",
      "source": [
        "### Drive"
      ],
      "metadata": {
        "id": "75VD6FONiyw7"
      }
    },
    {
      "cell_type": "code",
      "source": [
        "from google.colab import drive\n",
        "drive.mount('/content/drive')\n",
        "\n",
        "base_path = '/content/drive/MyDrive/'"
      ],
      "metadata": {
        "colab": {
          "base_uri": "https://localhost:8080/"
        },
        "id": "iV3bTXMXUlpv",
        "outputId": "36cd9ae5-28e1-4444-8b87-73dfd6ca3499"
      },
      "execution_count": 2,
      "outputs": [
        {
          "output_type": "stream",
          "name": "stdout",
          "text": [
            "Mounted at /content/drive\n"
          ]
        }
      ]
    },
    {
      "cell_type": "markdown",
      "source": [
        "IRIS Dataset - https://www.kaggle.com/datasets/arshid/iris-flower-dataset"
      ],
      "metadata": {
        "id": "6kPfVvSkWrL6"
      }
    },
    {
      "cell_type": "code",
      "source": [
        "iris_dataset_path = base_path + 'IRIS.csv'"
      ],
      "metadata": {
        "id": "idADOF0SUmPN"
      },
      "execution_count": 3,
      "outputs": []
    },
    {
      "cell_type": "markdown",
      "source": [
        "Titanic Dataset - https://www.kaggle.com/c/titanic/data"
      ],
      "metadata": {
        "id": "_kK9kaNXX38T"
      }
    },
    {
      "cell_type": "code",
      "source": [
        "titanic_train_dataset_path = base_path + 'titanic/train.csv'\n",
        "titanic_test_dataset_path = base_path + 'titanic/test.csv'"
      ],
      "metadata": {
        "id": "IPYbl51vX_CK"
      },
      "execution_count": 4,
      "outputs": []
    },
    {
      "cell_type": "markdown",
      "source": [
        "Lower Back Pain Symptoms Dataset - https://www.kaggle.com/datasets/sammy123/lower-back-pain-symptoms-dataset"
      ],
      "metadata": {
        "id": "wctQ-VGGlcP-"
      }
    },
    {
      "cell_type": "code",
      "source": [
        "pain_dataset_path = base_path + 'Dataset_spine.csv'"
      ],
      "metadata": {
        "id": "r8iyWQVJlbmb"
      },
      "execution_count": null,
      "outputs": []
    },
    {
      "cell_type": "markdown",
      "source": [
        "### Lendo datasets\n"
      ],
      "metadata": {
        "id": "RkgrXB1Yi1uD"
      }
    },
    {
      "cell_type": "code",
      "source": [
        "iris_df = pd.read_csv(iris_dataset_path)"
      ],
      "metadata": {
        "id": "LDTS0JLQi3up"
      },
      "execution_count": 5,
      "outputs": []
    },
    {
      "cell_type": "code",
      "source": [
        "titanic_df = pd.read_csv(titanic_train_dataset_path)\n",
        "titanic_test_df = pd.read_csv(titanic_test_dataset_path) # Não possui a coluna de classificação"
      ],
      "metadata": {
        "id": "PNp5NTrkj23Z"
      },
      "execution_count": 182,
      "outputs": []
    },
    {
      "cell_type": "code",
      "source": [
        "pain_df = pd.read_csv(pain_dataset_path)\n",
        "pain_df.head()"
      ],
      "metadata": {
        "id": "3ku6cmNtmA0H"
      },
      "execution_count": null,
      "outputs": []
    },
    {
      "cell_type": "markdown",
      "source": [
        "### Funções"
      ],
      "metadata": {
        "id": "83QTEtas9v9P"
      }
    },
    {
      "cell_type": "code",
      "source": [
        "def plot_confusion_matrix(y_test, y_pred):\n",
        "  cm = confusion_matrix(y_test, y_pred)\n",
        "  fig, ax = plt.subplots(figsize=(2,2))\n",
        "  sns.heatmap(cm, annot=True)"
      ],
      "metadata": {
        "id": "9X2xFVKp9vTR"
      },
      "execution_count": 7,
      "outputs": []
    },
    {
      "cell_type": "markdown",
      "source": [
        "## 🧪 **Experimento: Iris Flower Dataset** (pode deletar antes de entregar)"
      ],
      "metadata": {
        "id": "YSEmaOGYBJ4c"
      }
    },
    {
      "cell_type": "markdown",
      "source": [
        "### 🔎 Análise do Dataset"
      ],
      "metadata": {
        "id": "IbnwXNQtlxoD"
      }
    },
    {
      "cell_type": "code",
      "source": [
        "iris_df.info()"
      ],
      "metadata": {
        "colab": {
          "base_uri": "https://localhost:8080/"
        },
        "id": "Lgo4Q1H8rC_J",
        "outputId": "0ba359be-8cb4-449b-e478-9c353cbf3fa2"
      },
      "execution_count": 8,
      "outputs": [
        {
          "output_type": "stream",
          "name": "stdout",
          "text": [
            "<class 'pandas.core.frame.DataFrame'>\n",
            "RangeIndex: 150 entries, 0 to 149\n",
            "Data columns (total 5 columns):\n",
            " #   Column        Non-Null Count  Dtype  \n",
            "---  ------        --------------  -----  \n",
            " 0   sepal_length  150 non-null    float64\n",
            " 1   sepal_width   150 non-null    float64\n",
            " 2   petal_length  150 non-null    float64\n",
            " 3   petal_width   150 non-null    float64\n",
            " 4   species       150 non-null    object \n",
            "dtypes: float64(4), object(1)\n",
            "memory usage: 6.0+ KB\n"
          ]
        }
      ]
    },
    {
      "cell_type": "code",
      "source": [
        "iris_df['species'].unique()"
      ],
      "metadata": {
        "colab": {
          "base_uri": "https://localhost:8080/"
        },
        "id": "PUPwaNKVn0BD",
        "outputId": "3c3dcaa3-bbda-48b1-cbb9-b15166def89e"
      },
      "execution_count": 9,
      "outputs": [
        {
          "output_type": "execute_result",
          "data": {
            "text/plain": [
              "array(['Iris-setosa', 'Iris-versicolor', 'Iris-virginica'], dtype=object)"
            ]
          },
          "metadata": {},
          "execution_count": 9
        }
      ]
    },
    {
      "cell_type": "code",
      "source": [
        "iris_df['species'].value_counts()"
      ],
      "metadata": {
        "colab": {
          "base_uri": "https://localhost:8080/"
        },
        "id": "GU8MSiXsongg",
        "outputId": "6a0a266a-0ddd-41f8-cfcc-920717fc67b1"
      },
      "execution_count": 10,
      "outputs": [
        {
          "output_type": "execute_result",
          "data": {
            "text/plain": [
              "Iris-setosa        50\n",
              "Iris-versicolor    50\n",
              "Iris-virginica     50\n",
              "Name: species, dtype: int64"
            ]
          },
          "metadata": {},
          "execution_count": 10
        }
      ]
    },
    {
      "cell_type": "code",
      "source": [
        "#iris_df.describe()"
      ],
      "metadata": {
        "id": "_WhNfBGaopNv"
      },
      "execution_count": null,
      "outputs": []
    },
    {
      "cell_type": "code",
      "source": [
        "#sns.pairplot(iris_df, hue ='species')"
      ],
      "metadata": {
        "id": "owTmUzMmrPJC"
      },
      "execution_count": null,
      "outputs": []
    },
    {
      "cell_type": "code",
      "source": [
        "#iris_df.hist(bins=50, figsize=(5,5))\n",
        "#plt.show()"
      ],
      "metadata": {
        "id": "AgEkq1_2udcE"
      },
      "execution_count": null,
      "outputs": []
    },
    {
      "cell_type": "code",
      "source": [
        "#sns.set_style(\"whitegrid\")\n",
        "#data = np.random.normal(size=(20, 6)) + np.arange(6) / 2\n",
        "#sns.set(rc={'figure.figsize':(7,4)})\n",
        "#sns.boxplot(data = iris_df.iloc[:,:-1])"
      ],
      "metadata": {
        "id": "C8GZF-qI0_-f"
      },
      "execution_count": null,
      "outputs": []
    },
    {
      "cell_type": "markdown",
      "source": [
        "### 🛠️ Criando modelo\n"
      ],
      "metadata": {
        "id": "jcvstXinl3Xd"
      }
    },
    {
      "cell_type": "code",
      "execution_count": 15,
      "metadata": {
        "id": "F3rHOPGRA0yl"
      },
      "outputs": [],
      "source": [
        "iris_x = iris_df.iloc[:, :-1]\n",
        "iris_y = iris_df.iloc[:, -1]\n",
        "iris_x_train, iris_x_test, iris_y_train, iris_y_test = train_test_split(iris_x, iris_y, test_size = 0.25, random_state = 0) "
      ]
    },
    {
      "cell_type": "code",
      "source": [
        "classifier = DecisionTreeClassifier()  \n",
        "classifier.fit(iris_x_train, iris_y_train)"
      ],
      "metadata": {
        "id": "uDD9Oikv5KZA"
      },
      "execution_count": null,
      "outputs": []
    },
    {
      "cell_type": "code",
      "source": [
        "plot_tree(classifier, feature_names=iris_df.columns[: -1])\n",
        "plt.show()"
      ],
      "metadata": {
        "colab": {
          "base_uri": "https://localhost:8080/",
          "height": 345
        },
        "id": "oDL_xFa6CuXT",
        "outputId": "fac11f04-4b88-4527-b432-715b647ee7c2"
      },
      "execution_count": 17,
      "outputs": [
        {
          "output_type": "display_data",
          "data": {
            "text/plain": [
              "<Figure size 700x400 with 1 Axes>"
            ],
            "image/png": "[encoded data removed]"
          },
          "metadata": {}
        }
      ]
    },
    {
      "cell_type": "code",
      "source": [
        "iris_y_pred = classifier.predict(iris_x_test)"
      ],
      "metadata": {
        "id": "cEp2JEZl5nv7"
      },
      "execution_count": 18,
      "outputs": []
    },
    {
      "cell_type": "code",
      "source": [
        "report = classification_report(iris_y_test, iris_y_pred)"
      ],
      "metadata": {
        "id": "FJYwNsZO5sFI"
      },
      "execution_count": 19,
      "outputs": []
    },
    {
      "cell_type": "code",
      "source": [
        "print(report)"
      ],
      "metadata": {
        "colab": {
          "base_uri": "https://localhost:8080/"
        },
        "id": "hJ6dkFc79oxk",
        "outputId": "c15245ab-03cf-4f23-b8c1-dc2b3fda4dad"
      },
      "execution_count": 20,
      "outputs": [
        {
          "output_type": "stream",
          "name": "stdout",
          "text": [
            "                 precision    recall  f1-score   support\n",
            "\n",
            "    Iris-setosa       1.00      1.00      1.00        13\n",
            "Iris-versicolor       1.00      0.94      0.97        16\n",
            " Iris-virginica       0.90      1.00      0.95         9\n",
            "\n",
            "       accuracy                           0.97        38\n",
            "      macro avg       0.97      0.98      0.97        38\n",
            "   weighted avg       0.98      0.97      0.97        38\n",
            "\n"
          ]
        }
      ]
    },
    {
      "cell_type": "code",
      "source": [
        "plot_confusion_matrix(iris_y_test, iris_y_pred)"
      ],
      "metadata": {
        "colab": {
          "base_uri": "https://localhost:8080/",
          "height": 225
        },
        "id": "yxQk4SK191Dx",
        "outputId": "e3a2afb1-34d2-42c0-8171-1b4f839523d7"
      },
      "execution_count": 21,
      "outputs": [
        {
          "output_type": "display_data",
          "data": {
            "text/plain": [
              "<Figure size 200x200 with 2 Axes>"
            ],
            "image/png": "[encoded data removed]"
          },
          "metadata": {}
        }
      ]
    },
    {
      "cell_type": "markdown",
      "source": [
        "## 🛳️ **Projeto: Titanic Dataset**"
      ],
      "metadata": {
        "id": "_I1-QjdbBUU6"
      }
    },
    {
      "cell_type": "markdown",
      "source": [
        "### 🔎 Análise e limpeza do Dataset"
      ],
      "metadata": {
        "id": "IYq0Une8O4X9"
      }
    },
    {
      "cell_type": "markdown",
      "source": [
        "#### Valores faltantes\n",
        "A primeira análise feita é verificar os valores faltantes. **Três colunas possuem valores nulos: Age, Cabin e Embarked.** Cada coluna terá um tratamento apropriado."
      ],
      "metadata": {
        "id": "XxFIxczgKt1p"
      }
    },
    {
      "cell_type": "code",
      "source": [
        "titanic_df.shape"
      ],
      "metadata": {
        "colab": {
          "base_uri": "https://localhost:8080/"
        },
        "id": "30o3RhS8MQmo",
        "outputId": "f3203d85-f488-429b-de99-c5c670f4ecd9"
      },
      "execution_count": 183,
      "outputs": [
        {
          "output_type": "execute_result",
          "data": {
            "text/plain": [
              "(891, 12)"
            ]
          },
          "metadata": {},
          "execution_count": 183
        }
      ]
    },
    {
      "cell_type": "code",
      "source": [
        "#titanic_df.info()\n",
        "titanic_df.isnull().sum()"
      ],
      "metadata": {
        "colab": {
          "base_uri": "https://localhost:8080/"
        },
        "id": "YUyxGA3HHR-3",
        "outputId": "143c018f-157b-4252-a28a-f543365c9fc7"
      },
      "execution_count": 184,
      "outputs": [
        {
          "output_type": "execute_result",
          "data": {
            "text/plain": [
              "PassengerId      0\n",
              "Survived         0\n",
              "Pclass           0\n",
              "Name             0\n",
              "Sex              0\n",
              "Age            177\n",
              "SibSp            0\n",
              "Parch            0\n",
              "Ticket           0\n",
              "Fare             0\n",
              "Cabin          687\n",
              "Embarked         2\n",
              "dtype: int64"
            ]
          },
          "metadata": {},
          "execution_count": 184
        }
      ]
    },
    {
      "cell_type": "markdown",
      "source": [
        "##### Age"
      ],
      "metadata": {
        "id": "YhqN8W7PMkBH"
      }
    },
    {
      "cell_type": "markdown",
      "source": [
        "- Como é uma coluna de valores numéricos, que a maioria dos valores não é nulo e que acreditamos ter grande relevância para a sobrevivência ou não, será utilizado um método de substituir os valores nulos por um outro valor.\n",
        "- No plot vemos que se aproxima de uma distribuição assimétrica para a direita, então, então podemos **substituir os valores faltantes pela mediana**. [[1]](https://vitalflux.com/pandas-impute-missing-values-mean-median-mode/#How_to_decide_which_imputation_technique_to_use)\n",
        "- 🚩 **Idealmente, deveríamos analisar a correlação entre a idade e outras features, observando a existência de uma correlação, então os valores nulos deveriam ser substituídos pela mediana do subconjunto (separado pelas outras features correlacionadas).**"
      ],
      "metadata": {
        "id": "UloPUm0QYgw7"
      }
    },
    {
      "cell_type": "code",
      "source": [
        "sns.set(font_scale=0.8) \n",
        "sns.displot(titanic_df['Age'], height=3)\n",
        "plt.show()"
      ],
      "metadata": {
        "colab": {
          "base_uri": "https://localhost:8080/",
          "height": 308
        },
        "id": "UTrzA1i4Uw_3",
        "outputId": "f1c30023-ac62-443b-aff8-ae6a951fc4a6"
      },
      "execution_count": 185,
      "outputs": [
        {
          "output_type": "display_data",
          "data": {
            "text/plain": [
              "<Figure size 300x300 with 1 Axes>"
            ],
            "image/png": "[encoded data removed]"
          },
          "metadata": {}
        }
      ]
    },
    {
      "cell_type": "code",
      "source": [
        "titanic_df['Age'] = titanic_df['Age'].fillna(titanic_df['Age'].median())"
      ],
      "metadata": {
        "id": "-AJ9gVmNYmRx"
      },
      "execution_count": 186,
      "outputs": []
    },
    {
      "cell_type": "markdown",
      "source": [
        "##### Cabin"
      ],
      "metadata": {
        "id": "DBNa0_E3LJ2m"
      }
    },
    {
      "cell_type": "markdown",
      "source": [
        "- A maioria dos valores são nulos (687 de 891), não são numéricos e possuem muitos valores únicos.\n",
        "- Poderia ser feita uma tentativa de extrair informações relevantes dos dados que existem, visto que as strings consistem de uma letra seguida por um ou dois números, podemos deduzir que está relacionada a posição da cabine no navio, podendo então influenciar na sobrevivência de um passageiro. [[2]](https://www.kaggle.com/code/ccastleberry/titanic-cabin-features/notebook)\n",
        "- Entretanto, optaremos por **descartar a coluna** devido a quantidade de valores faltantes."
      ],
      "metadata": {
        "id": "0jLlhMg0OPpT"
      }
    },
    {
      "cell_type": "code",
      "source": [
        "titanic_df['Cabin'].value_counts()"
      ],
      "metadata": {
        "colab": {
          "base_uri": "https://localhost:8080/"
        },
        "id": "RY7T01VFCp3m",
        "outputId": "cade1b29-87d5-4abd-dab0-171f7a4318b1"
      },
      "execution_count": 187,
      "outputs": [
        {
          "output_type": "execute_result",
          "data": {
            "text/plain": [
              "B96 B98        4\n",
              "G6             4\n",
              "C23 C25 C27    4\n",
              "C22 C26        3\n",
              "F33            3\n",
              "              ..\n",
              "E34            1\n",
              "C7             1\n",
              "C54            1\n",
              "E36            1\n",
              "C148           1\n",
              "Name: Cabin, Length: 147, dtype: int64"
            ]
          },
          "metadata": {},
          "execution_count": 187
        }
      ]
    },
    {
      "cell_type": "code",
      "source": [
        "titanic_df = titanic_df.drop(columns=['Cabin'])"
      ],
      "metadata": {
        "id": "mZhlqNgWQoWf"
      },
      "execution_count": 188,
      "outputs": []
    },
    {
      "cell_type": "markdown",
      "source": [
        "##### Embarked"
      ],
      "metadata": {
        "id": "qr-6HdqePipN"
      }
    },
    {
      "cell_type": "markdown",
      "source": [
        "- Como se tratam de valores categóricos, os dois valores faltantes serão subsituídos pela moda."
      ],
      "metadata": {
        "id": "H1tb3x5NYwjm"
      }
    },
    {
      "cell_type": "code",
      "source": [
        "titanic_df['Embarked'].value_counts()"
      ],
      "metadata": {
        "colab": {
          "base_uri": "https://localhost:8080/"
        },
        "id": "DUtB_biEY2GB",
        "outputId": "40ae3863-3f7b-4e9d-87cf-1e3201fb8070"
      },
      "execution_count": 189,
      "outputs": [
        {
          "output_type": "execute_result",
          "data": {
            "text/plain": [
              "S    644\n",
              "C    168\n",
              "Q     77\n",
              "Name: Embarked, dtype: int64"
            ]
          },
          "metadata": {},
          "execution_count": 189
        }
      ]
    },
    {
      "cell_type": "code",
      "source": [
        "titanic_df['Embarked'] = titanic_df['Embarked'].fillna(titanic_df['Embarked'].mode()[0])"
      ],
      "metadata": {
        "id": "5784i7LlZWna"
      },
      "execution_count": 190,
      "outputs": []
    },
    {
      "cell_type": "code",
      "source": [
        "titanic_df['Embarked'].value_counts()"
      ],
      "metadata": {
        "colab": {
          "base_uri": "https://localhost:8080/"
        },
        "id": "dSwt5VJaaflc",
        "outputId": "084c7a38-00ec-4fd4-fcdc-13a7a5afad10"
      },
      "execution_count": 191,
      "outputs": [
        {
          "output_type": "execute_result",
          "data": {
            "text/plain": [
              "S    646\n",
              "C    168\n",
              "Q     77\n",
              "Name: Embarked, dtype: int64"
            ]
          },
          "metadata": {},
          "execution_count": 191
        }
      ]
    },
    {
      "cell_type": "markdown",
      "source": [
        "#### Colunas consideradas irrelevantes\n",
        "\n",
        "Algumas colunas possuem informações irrelevantes: identificadores que não apresentam relação direta com algo que possa definir a sobrevivência ou são valores aleatórios:\n",
        "- PassengerId\n",
        "- Ticket"
      ],
      "metadata": {
        "id": "WgfIP3YNP7z2"
      }
    },
    {
      "cell_type": "code",
      "source": [
        "titanic_df = titanic_df.drop(columns=['PassengerId'])\n",
        "titanic_df = titanic_df.drop(columns=['Ticket'])"
      ],
      "metadata": {
        "id": "9xhY22F6QfeD"
      },
      "execution_count": 192,
      "outputs": []
    },
    {
      "cell_type": "markdown",
      "source": [
        "#### Substituição dos valores categóricos por numéricos\n"
      ],
      "metadata": {
        "id": "oLqhfRIScD2u"
      }
    },
    {
      "cell_type": "markdown",
      "source": [
        "##### Name"
      ],
      "metadata": {
        "id": "8NS3TdQMfAsi"
      }
    },
    {
      "cell_type": "markdown",
      "source": [
        "- Essa coluna é composta apenas de valores únicos, mas todos os indivíduos possuem títulos (Mr., Mrs., Miss., etc).\n",
        "- É possível extrair a informação do título do passageiro e criar uma nova coluna."
      ],
      "metadata": {
        "id": "WW182XEEfEa0"
      }
    },
    {
      "cell_type": "code",
      "source": [
        "titanic_df['Name'].unique().size"
      ],
      "metadata": {
        "colab": {
          "base_uri": "https://localhost:8080/"
        },
        "id": "iJa2Mez2fJrK",
        "outputId": "3caf95f6-bb32-435d-9e4f-5d1b3d5ed2f5"
      },
      "execution_count": 193,
      "outputs": [
        {
          "output_type": "execute_result",
          "data": {
            "text/plain": [
              "891"
            ]
          },
          "metadata": {},
          "execution_count": 193
        }
      ]
    },
    {
      "cell_type": "code",
      "source": [
        "titles = titanic_df.Name.str.extract(' ([A-Za-z]+)\\.', expand=False)\n",
        "print(titles.size)\n",
        "titles.value_counts()"
      ],
      "metadata": {
        "colab": {
          "base_uri": "https://localhost:8080/"
        },
        "id": "eWJFveEfgrq9",
        "outputId": "5a611390-73a5-4c49-b3cc-01527e1fdfa3"
      },
      "execution_count": 194,
      "outputs": [
        {
          "output_type": "stream",
          "name": "stdout",
          "text": [
            "891\n"
          ]
        },
        {
          "output_type": "execute_result",
          "data": {
            "text/plain": [
              "Mr          517\n",
              "Miss        182\n",
              "Mrs         125\n",
              "Master       40\n",
              "Dr            7\n",
              "Rev           6\n",
              "Mlle          2\n",
              "Major         2\n",
              "Col           2\n",
              "Countess      1\n",
              "Capt          1\n",
              "Ms            1\n",
              "Sir           1\n",
              "Lady          1\n",
              "Mme           1\n",
              "Don           1\n",
              "Jonkheer      1\n",
              "Name: Name, dtype: int64"
            ]
          },
          "metadata": {},
          "execution_count": 194
        }
      ]
    },
    {
      "cell_type": "markdown",
      "source": [
        "- Como Mr, Miss, Mrs e Master são os únicos títulos que se repetem mais de dez vezes, vamos optar por substituir o restante por 'Other'. E outros títulos que equivalem a esses títulos também serão subsituídos.\n",
        "- O seguinte mapeamento será feito:\n",
        "  - Mr = 0, Mrs = 1, Miss = 2, Master = 3, Other = 4"
      ],
      "metadata": {
        "id": "WNhXYX88mB7o"
      }
    },
    {
      "cell_type": "code",
      "source": [
        "titles = titles.replace(['Lady', 'Countess','Capt', 'Col', 'Don', 'Dr', 'Major', 'Rev', 'Sir', 'Jonkheer', 'Dona'], 'Other')\n",
        "titles = titles.replace('Mlle', 'Miss')\n",
        "titles = titles.replace('Ms', 'Miss')\n",
        "titles = titles.replace('Mme', 'Mrs')\n",
        "titles = titles.map({\"Mr\": 0, \"Mrs\": 1, \"Miss\": 2, \"Master\": 3, \"Other\": 4})\n",
        "titles.value_counts()"
      ],
      "metadata": {
        "colab": {
          "base_uri": "https://localhost:8080/"
        },
        "id": "wpwKlJRQmo8E",
        "outputId": "4667528a-94e0-44e5-fdc9-d95b2430faf7"
      },
      "execution_count": 195,
      "outputs": [
        {
          "output_type": "execute_result",
          "data": {
            "text/plain": [
              "0    517\n",
              "2    185\n",
              "1    126\n",
              "3     40\n",
              "4     23\n",
              "Name: Name, dtype: int64"
            ]
          },
          "metadata": {},
          "execution_count": 195
        }
      ]
    },
    {
      "cell_type": "code",
      "source": [
        "titanic_df = titanic_df.drop(columns=['Name'])"
      ],
      "metadata": {
        "id": "mH1pH_zpnB7M"
      },
      "execution_count": 196,
      "outputs": []
    },
    {
      "cell_type": "code",
      "source": [
        "titanic_df['Title'] = titles"
      ],
      "metadata": {
        "id": "9nBN27yznJhB"
      },
      "execution_count": 197,
      "outputs": []
    },
    {
      "cell_type": "markdown",
      "source": [
        "##### Outras colunas"
      ],
      "metadata": {
        "id": "1a2mSyWffC0D"
      }
    },
    {
      "cell_type": "code",
      "source": [
        "titanic_df['Sex'].unique()"
      ],
      "metadata": {
        "colab": {
          "base_uri": "https://localhost:8080/"
        },
        "id": "D_9_DWjtAqrd",
        "outputId": "4bad48ce-9bc8-47a8-f186-bd6472c69df2"
      },
      "execution_count": 198,
      "outputs": [
        {
          "output_type": "execute_result",
          "data": {
            "text/plain": [
              "array(['male', 'female'], dtype=object)"
            ]
          },
          "metadata": {},
          "execution_count": 198
        }
      ]
    },
    {
      "cell_type": "code",
      "source": [
        "titanic_df['Embarked'].unique()"
      ],
      "metadata": {
        "colab": {
          "base_uri": "https://localhost:8080/"
        },
        "id": "AyGq5NqdBOdo",
        "outputId": "cc5ee4bd-c733-49b3-84a6-16ed83738212"
      },
      "execution_count": 199,
      "outputs": [
        {
          "output_type": "execute_result",
          "data": {
            "text/plain": [
              "array(['S', 'C', 'Q'], dtype=object)"
            ]
          },
          "metadata": {},
          "execution_count": 199
        }
      ]
    },
    {
      "cell_type": "markdown",
      "source": [
        "Antes de treinar o modelo, é necessário converter algumas colunas de uma string para um valor numérico.\n",
        "- Sex (male = 0, female = 1)\n",
        "- Embarked (S = 0, C = 1, Q = 2)\n",
        "\n"
      ],
      "metadata": {
        "id": "r9nPYrV8UBNj"
      }
    },
    {
      "cell_type": "code",
      "source": [
        "titanic_df['Sex'] = titanic_df['Sex'].map({'male': 0, 'female': 1})"
      ],
      "metadata": {
        "id": "vYMeLTw3WNli"
      },
      "execution_count": 200,
      "outputs": []
    },
    {
      "cell_type": "code",
      "source": [
        "titanic_df['Embarked'] = titanic_df['Embarked'].map({'S': 0, 'C': 1, 'Q': 2})"
      ],
      "metadata": {
        "id": "PbCE2onu_E2G"
      },
      "execution_count": 201,
      "outputs": []
    },
    {
      "cell_type": "markdown",
      "source": [
        "#### Combinar colunas"
      ],
      "metadata": {
        "id": "6QD-1VCpsiqF"
      }
    },
    {
      "cell_type": "markdown",
      "source": [
        "- Podemos combinar as colunas Sibsp e Parch para ter uma coluna representando o tamanho da família."
      ],
      "metadata": {
        "id": "3j_QTs6ysl4W"
      }
    },
    {
      "cell_type": "code",
      "source": [
        "#family = titanic_df['SibSp'] + titanic_df['Parch']\n",
        "#titanic_df['Family'] = family"
      ],
      "metadata": {
        "id": "AQOBO9XBslYw"
      },
      "execution_count": 202,
      "outputs": []
    },
    {
      "cell_type": "code",
      "source": [
        "#titanic_df = titanic_df.drop(columns=['SibSp', 'Parch'])"
      ],
      "metadata": {
        "id": "XnRoFh7kzkZm"
      },
      "execution_count": 203,
      "outputs": []
    },
    {
      "cell_type": "markdown",
      "source": [
        "#### Dataset após limpeza\n",
        "\n"
      ],
      "metadata": {
        "id": "4A3ZxsU-olhk"
      }
    },
    {
      "cell_type": "code",
      "source": [
        "titanic_df.info()"
      ],
      "metadata": {
        "colab": {
          "base_uri": "https://localhost:8080/"
        },
        "id": "isNlHh-6opbR",
        "outputId": "93a2132d-36a9-4170-a02b-302dc69629e1"
      },
      "execution_count": 204,
      "outputs": [
        {
          "output_type": "stream",
          "name": "stdout",
          "text": [
            "<class 'pandas.core.frame.DataFrame'>\n",
            "RangeIndex: 891 entries, 0 to 890\n",
            "Data columns (total 9 columns):\n",
            " #   Column    Non-Null Count  Dtype  \n",
            "---  ------    --------------  -----  \n",
            " 0   Survived  891 non-null    int64  \n",
            " 1   Pclass    891 non-null    int64  \n",
            " 2   Sex       891 non-null    int64  \n",
            " 3   Age       891 non-null    float64\n",
            " 4   SibSp     891 non-null    int64  \n",
            " 5   Parch     891 non-null    int64  \n",
            " 6   Fare      891 non-null    float64\n",
            " 7   Embarked  891 non-null    int64  \n",
            " 8   Title     891 non-null    int64  \n",
            "dtypes: float64(2), int64(7)\n",
            "memory usage: 62.8 KB\n"
          ]
        }
      ]
    },
    {
      "cell_type": "code",
      "source": [
        "titanic_df.head()"
      ],
      "metadata": {
        "colab": {
          "base_uri": "https://localhost:8080/",
          "height": 206
        },
        "id": "ZJE7f51vovGB",
        "outputId": "53d2d6f2-4ef9-4b64-b5c1-aef91e4d50d5"
      },
      "execution_count": 205,
      "outputs": [
        {
          "output_type": "execute_result",
          "data": {
            "text/plain": [
              "   Survived  Pclass  Sex   Age  SibSp  Parch     Fare  Embarked  Title\n",
              "0         0       3    0  22.0      1      0   7.2500         0      0\n",
              "1         1       1    1  38.0      1      0  71.2833         1      1\n",
              "2         1       3    1  26.0      0      0   7.9250         0      2\n",
              "3         1       1    1  35.0      1      0  53.1000         0      1\n",
              "4         0       3    0  35.0      0      0   8.0500         0      0"
            ],
            "text/html": [
              "\n",
              "  <div id=\"df-48a28f7b-5621-4527-b5b9-329c5a878cc4\">\n",
              "    <div class=\"colab-df-container\">\n",
              "      <div>\n",
              "<style scoped>\n",
              "    .dataframe tbody tr th:only-of-type {\n",
              "        vertical-align: middle;\n",
              "    }\n",
              "\n",
              "    .dataframe tbody tr th {\n",
              "        vertical-align: top;\n",
              "    }\n",
              "\n",
              "    .dataframe thead th {\n",
              "        text-align: right;\n",
              "    }\n",
              "</style>\n",
              "<table border=\"1\" class=\"dataframe\">\n",
              "  <thead>\n",
              "    <tr style=\"text-align: right;\">\n",
              "      <th></th>\n",
              "      <th>Survived</th>\n",
              "      <th>Pclass</th>\n",
              "      <th>Sex</th>\n",
              "      <th>Age</th>\n",
              "      <th>SibSp</th>\n",
              "      <th>Parch</th>\n",
              "      <th>Fare</th>\n",
              "      <th>Embarked</th>\n",
              "      <th>Title</th>\n",
              "    </tr>\n",
              "  </thead>\n",
              "  <tbody>\n",
              "    <tr>\n",
              "      <th>0</th>\n",
              "      <td>0</td>\n",
              "      <td>3</td>\n",
              "      <td>0</td>\n",
              "      <td>22.0</td>\n",
              "      <td>1</td>\n",
              "      <td>0</td>\n",
              "      <td>7.2500</td>\n",
              "      <td>0</td>\n",
              "      <td>0</td>\n",
              "    </tr>\n",
              "    <tr>\n",
              "      <th>1</th>\n",
              "      <td>1</td>\n",
              "      <td>1</td>\n",
              "      <td>1</td>\n",
              "      <td>38.0</td>\n",
              "      <td>1</td>\n",
              "      <td>0</td>\n",
              "      <td>71.2833</td>\n",
              "      <td>1</td>\n",
              "      <td>1</td>\n",
              "    </tr>\n",
              "    <tr>\n",
              "      <th>2</th>\n",
              "      <td>1</td>\n",
              "      <td>3</td>\n",
              "      <td>1</td>\n",
              "      <td>26.0</td>\n",
              "      <td>0</td>\n",
              "      <td>0</td>\n",
              "      <td>7.9250</td>\n",
              "      <td>0</td>\n",
              "      <td>2</td>\n",
              "    </tr>\n",
              "    <tr>\n",
              "      <th>3</th>\n",
              "      <td>1</td>\n",
              "      <td>1</td>\n",
              "      <td>1</td>\n",
              "      <td>35.0</td>\n",
              "      <td>1</td>\n",
              "      <td>0</td>\n",
              "      <td>53.1000</td>\n",
              "      <td>0</td>\n",
              "      <td>1</td>\n",
              "    </tr>\n",
              "    <tr>\n",
              "      <th>4</th>\n",
              "      <td>0</td>\n",
              "      <td>3</td>\n",
              "      <td>0</td>\n",
              "      <td>35.0</td>\n",
              "      <td>0</td>\n",
              "      <td>0</td>\n",
              "      <td>8.0500</td>\n",
              "      <td>0</td>\n",
              "      <td>0</td>\n",
              "    </tr>\n",
              "  </tbody>\n",
              "</table>\n",
              "</div>\n",
              "      <button class=\"colab-df-convert\" onclick=\"convertToInteractive('df-48a28f7b-5621-4527-b5b9-329c5a878cc4')\"\n",
              "              title=\"Convert this dataframe to an interactive table.\"\n",
              "              style=\"display:none;\">\n",
              "        \n",
              "  <svg xmlns=\"http://www.w3.org/2000/svg\" height=\"24px\"viewBox=\"0 0 24 24\"\n",
              "       width=\"24px\">\n",
              "    <path d=\"M0 0h24v24H0V0z\" fill=\"none\"/>\n",
              "    <path d=\"M18.56 5.44l.94 2.06.94-2.06 2.06-.94-2.06-.94-.94-2.06-.94 2.06-2.06.94zm-11 1L8.5 8.5l.94-2.06 2.06-.94-2.06-.94L8.5 2.5l-.94 2.06-2.06.94zm10 10l.94 2.06.94-2.06 2.06-.94-2.06-.94-.94-2.06-.94 2.06-2.06.94z\"/><path d=\"M17.41 7.96l-1.37-1.37c-.4-.4-.92-.59-1.43-.59-.52 0-1.04.2-1.43.59L10.3 9.45l-7.72 7.72c-.78.78-.78 2.05 0 2.83L4 21.41c.39.39.9.59 1.41.59.51 0 1.02-.2 1.41-.59l7.78-7.78 2.81-2.81c.8-.78.8-2.07 0-2.86zM5.41 20L4 18.59l7.72-7.72 1.47 1.35L5.41 20z\"/>\n",
              "  </svg>\n",
              "      </button>\n",
              "      \n",
              "  <style>\n",
              "    .colab-df-container {\n",
              "      display:flex;\n",
              "      flex-wrap:wrap;\n",
              "      gap: 12px;\n",
              "    }\n",
              "\n",
              "    .colab-df-convert {\n",
              "      background-color: #E8F0FE;\n",
              "      border: none;\n",
              "      border-radius: 50%;\n",
              "      cursor: pointer;\n",
              "      display: none;\n",
              "      fill: #1967D2;\n",
              "      height: 32px;\n",
              "      padding: 0 0 0 0;\n",
              "      width: 32px;\n",
              "    }\n",
              "\n",
              "    .colab-df-convert:hover {\n",
              "      background-color: #E2EBFA;\n",
              "      box-shadow: 0px 1px 2px rgba(60, 64, 67, 0.3), 0px 1px 3px 1px rgba(60, 64, 67, 0.15);\n",
              "      fill: #174EA6;\n",
              "    }\n",
              "\n",
              "    [theme=dark] .colab-df-convert {\n",
              "      background-color: #3B4455;\n",
              "      fill: #D2E3FC;\n",
              "    }\n",
              "\n",
              "    [theme=dark] .colab-df-convert:hover {\n",
              "      background-color: #434B5C;\n",
              "      box-shadow: 0px 1px 3px 1px rgba(0, 0, 0, 0.15);\n",
              "      filter: drop-shadow(0px 1px 2px rgba(0, 0, 0, 0.3));\n",
              "      fill: #FFFFFF;\n",
              "    }\n",
              "  </style>\n",
              "\n",
              "      <script>\n",
              "        const buttonEl =\n",
              "          document.querySelector('#df-48a28f7b-5621-4527-b5b9-329c5a878cc4 button.colab-df-convert');\n",
              "        buttonEl.style.display =\n",
              "          google.colab.kernel.accessAllowed ? 'block' : 'none';\n",
              "\n",
              "        async function convertToInteractive(key) {\n",
              "          const element = document.querySelector('#df-48a28f7b-5621-4527-b5b9-329c5a878cc4');\n",
              "          const dataTable =\n",
              "            await google.colab.kernel.invokeFunction('convertToInteractive',\n",
              "                                                     [key], {});\n",
              "          if (!dataTable) return;\n",
              "\n",
              "          const docLinkHtml = 'Like what you see? Visit the ' +\n",
              "            '<a target=\"_blank\" href=https://colab.research.google.com/notebooks/data_table.ipynb>data table notebook</a>'\n",
              "            + ' to learn more about interactive tables.';\n",
              "          element.innerHTML = '';\n",
              "          dataTable['output_type'] = 'display_data';\n",
              "          await google.colab.output.renderOutput(dataTable, element);\n",
              "          const docLink = document.createElement('div');\n",
              "          docLink.innerHTML = docLinkHtml;\n",
              "          element.appendChild(docLink);\n",
              "        }\n",
              "      </script>\n",
              "    </div>\n",
              "  </div>\n",
              "  "
            ]
          },
          "metadata": {},
          "execution_count": 205
        }
      ]
    },
    {
      "cell_type": "markdown",
      "source": [
        "### 🛠️ Criando modelo"
      ],
      "metadata": {
        "id": "V3cLpj2VO9hj"
      }
    },
    {
      "cell_type": "code",
      "source": [
        "titanic_x = titanic_df.drop(columns=['Survived'])\n",
        "titanic_y = titanic_df['Survived']\n",
        "\n",
        "titanic_x_train, titanic_x_test, titanic_y_train, titanic_y_test = train_test_split(titanic_x, titanic_y, test_size = 0.2)"
      ],
      "metadata": {
        "id": "X-G3EGIWA3v0"
      },
      "execution_count": 207,
      "outputs": []
    },
    {
      "cell_type": "markdown",
      "source": [
        "#### 1. Classificador com parâmetros default"
      ],
      "metadata": {
        "id": "9CzxsmJTrzAZ"
      }
    },
    {
      "cell_type": "code",
      "source": [
        "classifier = DecisionTreeClassifier()  \n",
        "classifier.fit(titanic_x_train, titanic_y_train)"
      ],
      "metadata": {
        "id": "a3hPPp5LOsju"
      },
      "execution_count": null,
      "outputs": []
    },
    {
      "cell_type": "code",
      "source": [
        "plot_tree(classifier, feature_names=titanic_df.drop(columns=['Survived']).columns)\n",
        "plt.show()"
      ],
      "metadata": {
        "colab": {
          "base_uri": "https://localhost:8080/",
          "height": 268
        },
        "id": "E4CjwDnzr9pW",
        "outputId": "4f6be7b9-7e90-4b44-fa96-0e57b34c86fe"
      },
      "execution_count": 209,
      "outputs": [
        {
          "output_type": "display_data",
          "data": {
            "text/plain": [
              "<Figure size 300x300 with 1 Axes>"
            ],
            "image/png": "[encoded data removed]"
          },
          "metadata": {}
        }
      ]
    },
    {
      "cell_type": "code",
      "source": [
        "titanic_y_pred = classifier.predict(titanic_x_test)"
      ],
      "metadata": {
        "id": "6DZ-yQXKrdh7"
      },
      "execution_count": 210,
      "outputs": []
    },
    {
      "cell_type": "code",
      "source": [
        "titanic_report = classification_report(titanic_y_test, titanic_y_pred)\n",
        "print(titanic_report)"
      ],
      "metadata": {
        "colab": {
          "base_uri": "https://localhost:8080/"
        },
        "id": "XUoyOq7frh5w",
        "outputId": "4a0010f2-1573-4654-e34b-70d9afed07a0"
      },
      "execution_count": 211,
      "outputs": [
        {
          "output_type": "stream",
          "name": "stdout",
          "text": [
            "              precision    recall  f1-score   support\n",
            "\n",
            "           0       0.83      0.82      0.83       111\n",
            "           1       0.71      0.74      0.72        68\n",
            "\n",
            "    accuracy                           0.79       179\n",
            "   macro avg       0.77      0.78      0.78       179\n",
            "weighted avg       0.79      0.79      0.79       179\n",
            "\n"
          ]
        }
      ]
    },
    {
      "cell_type": "code",
      "source": [
        "plot_confusion_matrix(titanic_y_test, titanic_y_pred)"
      ],
      "metadata": {
        "colab": {
          "base_uri": "https://localhost:8080/",
          "height": 217
        },
        "id": "U9kN-TRNrr5y",
        "outputId": "df3b9afa-a767-4621-85b6-2d0ae1b26b9c"
      },
      "execution_count": 212,
      "outputs": [
        {
          "output_type": "display_data",
          "data": {
            "text/plain": [
              "<Figure size 200x200 with 2 Axes>"
            ],
            "image/png": "[encoded data removed]"
          },
          "metadata": {}
        }
      ]
    },
    {
      "cell_type": "markdown",
      "source": [
        "## 🎲 **Utilizando Random Forests**"
      ],
      "metadata": {
        "id": "gZTwPPADBcAM"
      }
    },
    {
      "cell_type": "code",
      "source": [],
      "metadata": {
        "id": "iJRxst3lBeya"
      },
      "execution_count": null,
      "outputs": []
    },
    {
      "cell_type": "markdown",
      "source": [
        "## ⛑️ **Utilizando AD no problema de Detecção de Lombalgia**"
      ],
      "metadata": {
        "id": "dAWgT7VeBe7k"
      }
    },
    {
      "cell_type": "code",
      "source": [],
      "metadata": {
        "id": "vSs3U5neBktG"
      },
      "execution_count": null,
      "outputs": []
    },
    {
      "cell_type": "markdown",
      "source": [
        "## ✏️ **Conclusão**"
      ],
      "metadata": {
        "id": "aV8ndojLBovz"
      }
    },
    {
      "cell_type": "markdown",
      "source": [],
      "metadata": {
        "id": "TFPpoVFGBrDg"
      }
    }
  ]
}